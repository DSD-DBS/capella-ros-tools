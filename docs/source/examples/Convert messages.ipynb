{
 "cells": [
  {
   "cell_type": "code",
   "execution_count": 1,
   "metadata": {},
   "outputs": [],
   "source": [
    "import capellambse\n",
    "from capella_ros_tools.scripts import msg2capella\n",
    "from pathlib import Path"
   ]
  },
  {
   "cell_type": "code",
   "execution_count": 2,
   "metadata": {},
   "outputs": [],
   "source": [
    "msg_path = capellambse.filehandler.get_filehandler(\"git+https://github.com/DSD-DBS/dsd-ros-msg-definitions-oss\").rootdir\n",
    "capella_path = Path(\"data/empty_project_52\")\n",
    "layer = \"la\""
   ]
  },
  {
   "cell_type": "code",
   "execution_count": 3,
   "metadata": {},
   "outputs": [
    {
     "ename": "KeyboardInterrupt",
     "evalue": "",
     "output_type": "error",
     "traceback": [
      "\u001b[0;31m---------------------------------------------------------------------------\u001b[0m",
      "\u001b[0;31mKeyboardInterrupt\u001b[0m                         Traceback (most recent call last)",
      "Cell \u001b[0;32mIn[3], line 1\u001b[0m\n\u001b[0;32m----> 1\u001b[0m converter \u001b[38;5;241m=\u001b[39m \u001b[43mmsg2capella\u001b[49m\u001b[38;5;241;43m.\u001b[39;49m\u001b[43mConverter\u001b[49m\u001b[43m(\u001b[49m\u001b[43mmsg_path\u001b[49m\u001b[43m,\u001b[49m\u001b[43m \u001b[49m\u001b[43mcapella_path\u001b[49m\u001b[43m,\u001b[49m\u001b[43m \u001b[49m\u001b[43mlayer\u001b[49m\u001b[43m,\u001b[49m\u001b[43m \u001b[49m\u001b[38;5;124;43m\"\u001b[39;49m\u001b[38;5;124;43mo\u001b[39;49m\u001b[38;5;124;43m\"\u001b[39;49m\u001b[43m,\u001b[49m\u001b[43m \u001b[49m\u001b[38;5;28;43;01mFalse\u001b[39;49;00m\u001b[43m)\u001b[49m\n",
      "File \u001b[0;32m~/Documents/capella-ros-tools/capella_ros_tools/scripts/msg2capella.py:55\u001b[0m, in \u001b[0;36mConverter.__init__\u001b[0;34m(self, msg_path, capella_path, layer, action, no_deps)\u001b[0m\n\u001b[1;32m     47\u001b[0m \u001b[38;5;28;01mdef\u001b[39;00m \u001b[38;5;21m__init__\u001b[39m(\n\u001b[1;32m     48\u001b[0m     \u001b[38;5;28mself\u001b[39m,\n\u001b[1;32m     49\u001b[0m     msg_path: t\u001b[38;5;241m.\u001b[39mAny,\n\u001b[0;32m   (...)\u001b[0m\n\u001b[1;32m     53\u001b[0m     no_deps: \u001b[38;5;28mbool\u001b[39m,\n\u001b[1;32m     54\u001b[0m ) \u001b[38;5;241m-\u001b[39m\u001b[38;5;241m>\u001b[39m \u001b[38;5;28;01mNone\u001b[39;00m:\n\u001b[0;32m---> 55\u001b[0m     \u001b[38;5;28mself\u001b[39m\u001b[38;5;241m.\u001b[39mmsgs \u001b[38;5;241m=\u001b[39m \u001b[43mMessagePkgDef\u001b[49m\u001b[38;5;241;43m.\u001b[39;49m\u001b[43mfrom_pkg_folder\u001b[49m\u001b[43m(\u001b[49m\u001b[43mmsg_path\u001b[49m\u001b[43m)\u001b[49m\n\u001b[1;32m     56\u001b[0m     \u001b[38;5;28mself\u001b[39m\u001b[38;5;241m.\u001b[39mmodel \u001b[38;5;241m=\u001b[39m CapellaModel(capella_path, layer)\n\u001b[1;32m     57\u001b[0m     \u001b[38;5;28mself\u001b[39m\u001b[38;5;241m.\u001b[39maction \u001b[38;5;241m=\u001b[39m action\n",
      "File \u001b[0;32m~/Documents/capella-ros-tools/capella_ros_tools/modules/messages/parser.py:326\u001b[0m, in \u001b[0;36mMessagePkgDef.from_pkg_folder\u001b[0;34m(cls, root_dir, root_dir_name)\u001b[0m\n\u001b[1;32m    323\u001b[0m out \u001b[38;5;241m=\u001b[39m \u001b[38;5;28mcls\u001b[39m(\u001b[38;5;124m\"\u001b[39m\u001b[38;5;124m\"\u001b[39m, [], [])\n\u001b[1;32m    324\u001b[0m \u001b[38;5;28;01mfor\u001b[39;00m \u001b[38;5;28mdir\u001b[39m \u001b[38;5;129;01min\u001b[39;00m root_dir\u001b[38;5;241m.\u001b[39mrglob(\u001b[38;5;124m\"\u001b[39m\u001b[38;5;124mmsg\u001b[39m\u001b[38;5;124m\"\u001b[39m):\n\u001b[1;32m    325\u001b[0m     out\u001b[38;5;241m.\u001b[39mpackages\u001b[38;5;241m.\u001b[39mappend(\n\u001b[0;32m--> 326\u001b[0m         \u001b[43mMessagePkgDef\u001b[49m\u001b[38;5;241;43m.\u001b[39;49m\u001b[43mfrom_msg_folder\u001b[49m\u001b[43m(\u001b[49m\n\u001b[1;32m    327\u001b[0m \u001b[43m            \u001b[49m\u001b[38;5;28;43mdir\u001b[39;49m\u001b[38;5;241;43m.\u001b[39;49m\u001b[43mparent\u001b[49m\u001b[38;5;241;43m.\u001b[39;49m\u001b[43mname\u001b[49m\u001b[43m \u001b[49m\u001b[38;5;129;43;01mor\u001b[39;49;00m\u001b[43m \u001b[49m\u001b[43mroot_dir_name\u001b[49m\u001b[43m,\u001b[49m\u001b[43m \u001b[49m\u001b[38;5;28;43mdir\u001b[39;49m\n\u001b[1;32m    328\u001b[0m \u001b[43m        \u001b[49m\u001b[43m)\u001b[49m\n\u001b[1;32m    329\u001b[0m     )\n\u001b[1;32m    330\u001b[0m \u001b[38;5;28;01mreturn\u001b[39;00m out\n",
      "File \u001b[0;32m~/Documents/capella-ros-tools/capella_ros_tools/modules/messages/parser.py:316\u001b[0m, in \u001b[0;36mMessagePkgDef.from_msg_folder\u001b[0;34m(cls, package_name, msg_pkg_dir)\u001b[0m\n\u001b[1;32m    313\u001b[0m         msg_pkg\u001b[38;5;241m.\u001b[39mmessages\u001b[38;5;241m.\u001b[39mappend(MessageDef\u001b[38;5;241m.\u001b[39mfrom_msg_file(msg_file))\n\u001b[1;32m    314\u001b[0m     \u001b[38;5;28;01melif\u001b[39;00m msg_file\u001b[38;5;241m.\u001b[39mis_dir():\n\u001b[1;32m    315\u001b[0m         msg_pkg\u001b[38;5;241m.\u001b[39mpackages\u001b[38;5;241m.\u001b[39mappend(\n\u001b[0;32m--> 316\u001b[0m             \u001b[38;5;28;43mcls\u001b[39;49m\u001b[38;5;241;43m.\u001b[39;49m\u001b[43mfrom_msg_folder\u001b[49m\u001b[43m(\u001b[49m\u001b[43mmsg_file\u001b[49m\u001b[38;5;241;43m.\u001b[39;49m\u001b[43mname\u001b[49m\u001b[43m,\u001b[49m\u001b[43m \u001b[49m\u001b[43mmsg_file\u001b[49m\u001b[43m)\u001b[49m\n\u001b[1;32m    317\u001b[0m         )\n\u001b[1;32m    318\u001b[0m \u001b[38;5;28;01mreturn\u001b[39;00m msg_pkg\n",
      "File \u001b[0;32m~/Documents/capella-ros-tools/capella_ros_tools/modules/messages/parser.py:313\u001b[0m, in \u001b[0;36mMessagePkgDef.from_msg_folder\u001b[0;34m(cls, package_name, msg_pkg_dir)\u001b[0m\n\u001b[1;32m    311\u001b[0m \u001b[38;5;28;01mfor\u001b[39;00m msg_file \u001b[38;5;129;01min\u001b[39;00m msg_pkg_dir\u001b[38;5;241m.\u001b[39miterdir():\n\u001b[1;32m    312\u001b[0m     \u001b[38;5;28;01mif\u001b[39;00m msg_file\u001b[38;5;241m.\u001b[39msuffix \u001b[38;5;241m==\u001b[39m \u001b[38;5;124m\"\u001b[39m\u001b[38;5;124m.msg\u001b[39m\u001b[38;5;124m\"\u001b[39m:\n\u001b[0;32m--> 313\u001b[0m         msg_pkg\u001b[38;5;241m.\u001b[39mmessages\u001b[38;5;241m.\u001b[39mappend(\u001b[43mMessageDef\u001b[49m\u001b[38;5;241;43m.\u001b[39;49m\u001b[43mfrom_msg_file\u001b[49m\u001b[43m(\u001b[49m\u001b[43mmsg_file\u001b[49m\u001b[43m)\u001b[49m)\n\u001b[1;32m    314\u001b[0m     \u001b[38;5;28;01melif\u001b[39;00m msg_file\u001b[38;5;241m.\u001b[39mis_dir():\n\u001b[1;32m    315\u001b[0m         msg_pkg\u001b[38;5;241m.\u001b[39mpackages\u001b[38;5;241m.\u001b[39mappend(\n\u001b[1;32m    316\u001b[0m             \u001b[38;5;28mcls\u001b[39m\u001b[38;5;241m.\u001b[39mfrom_msg_folder(msg_file\u001b[38;5;241m.\u001b[39mname, msg_file)\n\u001b[1;32m    317\u001b[0m         )\n",
      "File \u001b[0;32m~/Documents/capella-ros-tools/capella_ros_tools/modules/messages/parser.py:110\u001b[0m, in \u001b[0;36mMessageDef.from_msg_file\u001b[0;34m(cls, msg_file)\u001b[0m\n\u001b[1;32m    108\u001b[0m msg_name \u001b[38;5;241m=\u001b[39m msg_file\u001b[38;5;241m.\u001b[39mstem\n\u001b[1;32m    109\u001b[0m message_string \u001b[38;5;241m=\u001b[39m msg_file\u001b[38;5;241m.\u001b[39mread_text()\n\u001b[0;32m--> 110\u001b[0m \u001b[38;5;28;01mreturn\u001b[39;00m \u001b[38;5;28;43mcls\u001b[39;49m\u001b[38;5;241;43m.\u001b[39;49m\u001b[43mfrom_msg_string\u001b[49m\u001b[43m(\u001b[49m\u001b[43mmsg_name\u001b[49m\u001b[43m,\u001b[49m\u001b[43m \u001b[49m\u001b[43mmessage_string\u001b[49m\u001b[43m)\u001b[49m\n",
      "File \u001b[0;32m~/Documents/capella-ros-tools/capella_ros_tools/modules/messages/parser.py:184\u001b[0m, in \u001b[0;36mMessageDef.from_msg_string\u001b[0;34m(cls, msg_name, message_string)\u001b[0m\n\u001b[1;32m    181\u001b[0m         last_element \u001b[38;5;241m=\u001b[39m msg\u001b[38;5;241m.\u001b[39mfields[\u001b[38;5;241m-\u001b[39m\u001b[38;5;241m1\u001b[39m]\n\u001b[1;32m    183\u001b[0m \u001b[38;5;66;03m# condense and rename enums\u001b[39;00m\n\u001b[0;32m--> 184\u001b[0m \u001b[43m_process_enums\u001b[49m\u001b[43m(\u001b[49m\u001b[43mmsg\u001b[49m\u001b[43m)\u001b[49m\n\u001b[1;32m    186\u001b[0m \u001b[38;5;66;03m# condense comment lines, extract special annotations\u001b[39;00m\n\u001b[1;32m    187\u001b[0m _process_comments(msg)\n",
      "File \u001b[0;32m~/Documents/capella-ros-tools/capella_ros_tools/modules/messages/parser.py:227\u001b[0m, in \u001b[0;36m_process_enums\u001b[0;34m(msg)\u001b[0m\n\u001b[1;32m    225\u001b[0m         msg\u001b[38;5;241m.\u001b[39menums[i \u001b[38;5;241m+\u001b[39m \u001b[38;5;241m1\u001b[39m]\u001b[38;5;241m.\u001b[39mvalues \u001b[38;5;241m=\u001b[39m enum\u001b[38;5;241m.\u001b[39mvalues \u001b[38;5;241m+\u001b[39m msg\u001b[38;5;241m.\u001b[39menums[i \u001b[38;5;241m+\u001b[39m \u001b[38;5;241m1\u001b[39m]\u001b[38;5;241m.\u001b[39mvalues\n\u001b[1;32m    226\u001b[0m         to_delete\u001b[38;5;241m.\u001b[39madd(i)\n\u001b[0;32m--> 227\u001b[0m         \u001b[38;5;28;01mcontinue\u001b[39;00m\n\u001b[1;32m    228\u001b[0m \u001b[38;5;28;01mexcept\u001b[39;00m \u001b[38;5;167;01mIndexError\u001b[39;00m:\n\u001b[1;32m    229\u001b[0m     \u001b[38;5;28;01mpass\u001b[39;00m\n",
      "File \u001b[0;32m~/Documents/capella-ros-tools/capella_ros_tools/modules/messages/parser.py:227\u001b[0m, in \u001b[0;36m_process_enums\u001b[0;34m(msg)\u001b[0m\n\u001b[1;32m    225\u001b[0m         msg\u001b[38;5;241m.\u001b[39menums[i \u001b[38;5;241m+\u001b[39m \u001b[38;5;241m1\u001b[39m]\u001b[38;5;241m.\u001b[39mvalues \u001b[38;5;241m=\u001b[39m enum\u001b[38;5;241m.\u001b[39mvalues \u001b[38;5;241m+\u001b[39m msg\u001b[38;5;241m.\u001b[39menums[i \u001b[38;5;241m+\u001b[39m \u001b[38;5;241m1\u001b[39m]\u001b[38;5;241m.\u001b[39mvalues\n\u001b[1;32m    226\u001b[0m         to_delete\u001b[38;5;241m.\u001b[39madd(i)\n\u001b[0;32m--> 227\u001b[0m         \u001b[38;5;28;01mcontinue\u001b[39;00m\n\u001b[1;32m    228\u001b[0m \u001b[38;5;28;01mexcept\u001b[39;00m \u001b[38;5;167;01mIndexError\u001b[39;00m:\n\u001b[1;32m    229\u001b[0m     \u001b[38;5;28;01mpass\u001b[39;00m\n",
      "File \u001b[0;32m_pydevd_bundle/pydevd_cython.pyx:1457\u001b[0m, in \u001b[0;36m_pydevd_bundle.pydevd_cython.SafeCallWrapper.__call__\u001b[0;34m()\u001b[0m\n",
      "File \u001b[0;32m_pydevd_bundle/pydevd_cython.pyx:701\u001b[0m, in \u001b[0;36m_pydevd_bundle.pydevd_cython.PyDBFrame.trace_dispatch\u001b[0;34m()\u001b[0m\n",
      "File \u001b[0;32m_pydevd_bundle/pydevd_cython.pyx:1395\u001b[0m, in \u001b[0;36m_pydevd_bundle.pydevd_cython.PyDBFrame.trace_dispatch\u001b[0;34m()\u001b[0m\n",
      "File \u001b[0;32m_pydevd_bundle/pydevd_cython.pyx:1344\u001b[0m, in \u001b[0;36m_pydevd_bundle.pydevd_cython.PyDBFrame.trace_dispatch\u001b[0;34m()\u001b[0m\n",
      "File \u001b[0;32m_pydevd_bundle/pydevd_cython.pyx:312\u001b[0m, in \u001b[0;36m_pydevd_bundle.pydevd_cython.PyDBFrame.do_wait_suspend\u001b[0;34m()\u001b[0m\n",
      "File \u001b[0;32m~/Documents/capella-ros-tools/.venv/lib/python3.10/site-packages/debugpy/_vendored/pydevd/pydevd.py:2070\u001b[0m, in \u001b[0;36mPyDB.do_wait_suspend\u001b[0;34m(self, thread, frame, event, arg, exception_type)\u001b[0m\n\u001b[1;32m   2067\u001b[0m             from_this_thread\u001b[38;5;241m.\u001b[39mappend(frame_custom_thread_id)\n\u001b[1;32m   2069\u001b[0m     \u001b[38;5;28;01mwith\u001b[39;00m \u001b[38;5;28mself\u001b[39m\u001b[38;5;241m.\u001b[39m_threads_suspended_single_notification\u001b[38;5;241m.\u001b[39mnotify_thread_suspended(thread_id, thread, stop_reason):\n\u001b[0;32m-> 2070\u001b[0m         keep_suspended \u001b[38;5;241m=\u001b[39m \u001b[38;5;28;43mself\u001b[39;49m\u001b[38;5;241;43m.\u001b[39;49m\u001b[43m_do_wait_suspend\u001b[49m\u001b[43m(\u001b[49m\u001b[43mthread\u001b[49m\u001b[43m,\u001b[49m\u001b[43m \u001b[49m\u001b[43mframe\u001b[49m\u001b[43m,\u001b[49m\u001b[43m \u001b[49m\u001b[43mevent\u001b[49m\u001b[43m,\u001b[49m\u001b[43m \u001b[49m\u001b[43marg\u001b[49m\u001b[43m,\u001b[49m\u001b[43m \u001b[49m\u001b[43msuspend_type\u001b[49m\u001b[43m,\u001b[49m\u001b[43m \u001b[49m\u001b[43mfrom_this_thread\u001b[49m\u001b[43m,\u001b[49m\u001b[43m \u001b[49m\u001b[43mframes_tracker\u001b[49m\u001b[43m)\u001b[49m\n\u001b[1;32m   2072\u001b[0m frames_list \u001b[38;5;241m=\u001b[39m \u001b[38;5;28;01mNone\u001b[39;00m\n\u001b[1;32m   2074\u001b[0m \u001b[38;5;28;01mif\u001b[39;00m keep_suspended:\n\u001b[1;32m   2075\u001b[0m     \u001b[38;5;66;03m# This means that we should pause again after a set next statement.\u001b[39;00m\n",
      "File \u001b[0;32m~/Documents/capella-ros-tools/.venv/lib/python3.10/site-packages/debugpy/_vendored/pydevd/pydevd.py:2106\u001b[0m, in \u001b[0;36mPyDB._do_wait_suspend\u001b[0;34m(self, thread, frame, event, arg, suspend_type, from_this_thread, frames_tracker)\u001b[0m\n\u001b[1;32m   2103\u001b[0m         \u001b[38;5;28mself\u001b[39m\u001b[38;5;241m.\u001b[39m_call_input_hook()\n\u001b[1;32m   2105\u001b[0m     \u001b[38;5;28mself\u001b[39m\u001b[38;5;241m.\u001b[39mprocess_internal_commands()\n\u001b[0;32m-> 2106\u001b[0m     \u001b[43mtime\u001b[49m\u001b[38;5;241;43m.\u001b[39;49m\u001b[43msleep\u001b[49m\u001b[43m(\u001b[49m\u001b[38;5;241;43m0.01\u001b[39;49m\u001b[43m)\u001b[49m\n\u001b[1;32m   2108\u001b[0m \u001b[38;5;28mself\u001b[39m\u001b[38;5;241m.\u001b[39mcancel_async_evaluation(get_current_thread_id(thread), \u001b[38;5;28mstr\u001b[39m(\u001b[38;5;28mid\u001b[39m(frame)))\n\u001b[1;32m   2110\u001b[0m \u001b[38;5;66;03m# process any stepping instructions\u001b[39;00m\n",
      "\u001b[0;31mKeyboardInterrupt\u001b[0m: "
     ]
    }
   ],
   "source": [
    "converter = msg2capella.Converter(msg_path, capella_path, layer, \"o\", False)"
   ]
  },
  {
   "cell_type": "code",
   "execution_count": 3,
   "metadata": {},
   "outputs": [
    {
     "name": "stderr",
     "output_type": "stream",
     "text": [
      "Traceback (most recent call last):\n",
      "  File \"_pydevd_bundle/pydevd_cython.pyx\", line 577, in _pydevd_bundle.pydevd_cython.PyDBFrame._handle_exception\n",
      "  File \"_pydevd_bundle/pydevd_cython.pyx\", line 312, in _pydevd_bundle.pydevd_cython.PyDBFrame.do_wait_suspend\n",
      "  File \"/home/huyenngn/Documents/capella-ros-tools/.venv/lib/python3.10/site-packages/debugpy/_vendored/pydevd/pydevd.py\", line 2070, in do_wait_suspend\n",
      "    keep_suspended = self._do_wait_suspend(thread, frame, event, arg, suspend_type, from_this_thread, frames_tracker)\n",
      "  File \"/home/huyenngn/Documents/capella-ros-tools/.venv/lib/python3.10/site-packages/debugpy/_vendored/pydevd/pydevd.py\", line 2106, in _do_wait_suspend\n",
      "    time.sleep(0.01)\n",
      "KeyboardInterrupt\n"
     ]
    },
    {
     "ename": "NameError",
     "evalue": "name 'converter' is not defined",
     "output_type": "error",
     "traceback": [
      "\u001b[0;31m---------------------------------------------------------------------------\u001b[0m",
      "\u001b[0;31mNameError\u001b[0m                                 Traceback (most recent call last)",
      "Cell \u001b[0;32mIn[3], line 1\u001b[0m\n\u001b[0;32m----> 1\u001b[0m \u001b[43mconverter\u001b[49m\u001b[38;5;241m.\u001b[39mconvert()\n",
      "\u001b[0;31mNameError\u001b[0m: name 'converter' is not defined"
     ]
    }
   ],
   "source": [
    "converter.convert()"
   ]
  }
 ],
 "metadata": {
  "kernelspec": {
   "display_name": ".venv",
   "language": "python",
   "name": "python3"
  },
  "language_info": {
   "codemirror_mode": {
    "name": "ipython",
    "version": 3
   },
   "file_extension": ".py",
   "mimetype": "text/x-python",
   "name": "python",
   "nbconvert_exporter": "python",
   "pygments_lexer": "ipython3",
   "version": "3.10.12"
  }
 },
 "nbformat": 4,
 "nbformat_minor": 2
}
