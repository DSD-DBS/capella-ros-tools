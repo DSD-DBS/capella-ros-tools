{
 "cells": [
  {
<<<<<<< HEAD
   "cell_type": "code",
   "execution_count": 1,
   "metadata": {},
   "outputs": [],
   "source": [
    "from capella_ros_tools.modules.messages.parser import MessageDef\n",
    "from IPython.display import display"
=======
   "cell_type": "markdown",
   "metadata": {},
   "source": [
    "# Parse Messages"
>>>>>>> 40ef464 (feat: Make tree view draggable)
   ]
  },
  {
   "cell_type": "code",
   "execution_count": 2,
   "metadata": {},
   "outputs": [],
   "source": [
<<<<<<< HEAD
    "msg_name = \"CameraInfo\"\n",
    "msg_string = \"\"\"\n",
    "# This message defines meta information for a camera. It should be in a\n",
    "# camera namespace on topic \"camera_info\" and accompanied by up to five\n",
    "# image topics named:\n",
    "#\n",
    "#   image_raw - raw data from the camera driver, possibly Bayer encoded\n",
    "#   image            - monochrome, distorted\n",
    "#   image_color      - color, distorted\n",
    "#   image_rect       - monochrome, rectified\n",
    "#   image_rect_color - color, rectified\n",
    "#\n",
    "# The image_pipeline contains packages (image_proc, stereo_image_proc)\n",
    "# for producing the four processed image topics from image_raw and\n",
    "# camera_info. The meaning of the camera parameters are described in\n",
    "# detail at http://www.ros.org/wiki/image_pipeline/CameraInfo.\n",
    "#\n",
    "# The image_geometry package provides a user-friendly interface to\n",
    "# common operations using this meta information. If you want to, e.g.,\n",
    "# project a 3d point into image coordinates, we strongly recommend\n",
    "# using image_geometry.\n",
    "#\n",
    "# If the camera is uncalibrated, the matrices D, K, R, P should be left\n",
    "# zeroed out. In particular, clients may assume that K[0] == 0.0\n",
    "# indicates an uncalibrated camera.\n",
    "\n",
    "#######################################################################\n",
    "#                     Image acquisition info                          #\n",
    "#######################################################################\n",
    "\n",
    "# Time of image acquisition, camera coordinate frame ID\n",
    "std_msgs/Header header # Header timestamp should be acquisition time of image\n",
    "                             # Header frame_id should be optical frame of camera\n",
    "                             # origin of frame should be optical center of camera\n",
    "                             # +x should point to the right in the image\n",
    "                             # +y should point down in the image\n",
    "                             # +z should point into the plane of the image\n",
    "\n",
    "\n",
    "#######################################################################\n",
    "#                      Calibration Parameters                         #\n",
    "#######################################################################\n",
    "# These are fixed during camera calibration. Their values will be the #\n",
    "# same in all messages until the camera is recalibrated. Note that    #\n",
    "# self-calibrating systems may \"recalibrate\" frequently.              #\n",
    "#                                                                     #\n",
    "# The internal parameters can be used to warp a raw (distorted) image #\n",
    "# to:                                                                 #\n",
    "#   1. An undistorted image (requires D and K)                        #\n",
    "#   2. A rectified image (requires D, K, R)                           #\n",
    "# The projection matrix P projects 3D points into the rectified image.#\n",
    "#######################################################################\n",
    "\n",
    "# The image dimensions with which the camera was calibrated.\n",
    "# Normally this will be the full camera resolution in pixels.\n",
    "uint32 height\n",
    "uint32 width\n",
    "\n",
    "# The distortion model used. Supported models are listed in\n",
    "# sensor_msgs/distortion_models.hpp. For most cameras, \"plumb_bob\" - a\n",
    "# simple model of radial and tangential distortion - is sufficent.\n",
    "string distortion_model\n",
    "\n",
    "# The distortion parameters, size depending on the distortion model.\n",
    "# For \"plumb_bob\", the 5 parameters are: (k1, k2, t1, t2, k3).\n",
    "float64[] d\n",
    "\n",
    "# Intrinsic camera matrix for the raw (distorted) images.\n",
    "#     [fx  0 cx]\n",
    "# K = [ 0 fy cy]\n",
    "#     [ 0  0  1]\n",
    "# Projects 3D points in the camera coordinate frame to 2D pixel\n",
    "# coordinates using the focal lengths (fx, fy) and principal point\n",
    "# (cx, cy).\n",
    "float64[9]  k # 3x3 row-major matrix\n",
    "\n",
    "# Rectification matrix (stereo cameras only)\n",
    "# A rotation matrix aligning the camera coordinate system to the ideal\n",
    "# stereo image plane so that epipolar lines in both stereo images are\n",
    "# parallel.\n",
    "float64[9]  r # 3x3 row-major matrix\n",
    "\n",
    "# Projection/camera matrix\n",
    "#     [fx'  0  cx' Tx]\n",
    "# P = [ 0  fy' cy' Ty]\n",
    "#     [ 0   0   1   0]\n",
    "# By convention, this matrix specifies the intrinsic (camera) matrix\n",
    "#  of the processed (rectified) image. That is, the left 3x3 portion\n",
    "#  is the normal camera intrinsic matrix for the rectified image.\n",
    "# It projects 3D points in the camera coordinate frame to 2D pixel\n",
    "#  coordinates using the focal lengths (fx', fy') and principal point\n",
    "#  (cx', cy') - these may differ from the values in K.\n",
    "# For monocular cameras, Tx = Ty = 0. Normally, monocular cameras will\n",
    "#  also have R = the identity and P[1:3,1:3] = K.\n",
    "# For a stereo pair, the fourth column [Tx Ty 0]' is related to the\n",
    "#  position of the optical center of the second camera in the first\n",
    "#  camera's frame. We assume Tz = 0 so both cameras are in the same\n",
    "#  stereo image plane. The first camera always has Tx = Ty = 0. For\n",
    "#  the right (second) camera of a horizontal stereo pair, Ty = 0 and\n",
    "#  Tx = -fx' * B, where B is the baseline between the cameras.\n",
    "# Given a 3D point [X Y Z]', the projection (x, y) of the point onto\n",
    "#  the rectified image is given by:\n",
    "#  [u v w]' = P * [X Y Z 1]'\n",
    "#         x = u / w\n",
    "#         y = v / w\n",
    "#  This holds for both images of a stereo pair.\n",
    "float64[12] p # 3x4 row-major matrix\n",
    "\n",
    "\n",
    "#######################################################################\n",
    "#                      Operational Parameters                         #\n",
    "#######################################################################\n",
    "# These define the image region actually captured by the camera       #\n",
    "# driver. Although they affect the geometry of the output image, they #\n",
    "# may be changed freely without recalibrating the camera.             #\n",
    "#######################################################################\n",
    "\n",
    "# Binning refers here to any camera setting which combines rectangular\n",
    "#  neighborhoods of pixels into larger \"super-pixels.\" It reduces the\n",
    "#  resolution of the output image to\n",
    "#  (width / binning_x) x (height / binning_y).\n",
    "# The default values binning_x = binning_y = 0 is considered the same\n",
    "#  as binning_x = binning_y = 1 (no subsampling).\n",
    "uint32 binning_x\n",
    "uint32 binning_y\n",
    "\n",
    "# Region of interest (subwindow of full camera resolution), given in\n",
    "#  full resolution (unbinned) image coordinates. A particular ROI\n",
    "#  always denotes the same window of pixels on the camera sensor,\n",
    "#  regardless of binning settings.\n",
    "# The default setting of roi (all values 0) is considered the same as\n",
    "#  full resolution (roi.width = width, roi.height = height).\n",
    "RegionOfInterest roi\n",
    "\"\"\""
=======
    "from capella_ros_tools.modules.messages.parser import MessageDef\n",
    "from pathlib import Path\n",
    "from IPython.display import display\n"
>>>>>>> 40ef464 (feat: Make tree view draggable)
   ]
  },
  {
   "cell_type": "code",
<<<<<<< HEAD
   "execution_count": 3,
=======
   "execution_count": 4,
>>>>>>> 40ef464 (feat: Make tree view draggable)
   "metadata": {},
   "outputs": [
    {
     "data": {
      "text/html": [
<<<<<<< HEAD
       "<h1>CameraInfo</h1><p># This message defines meta information for a camera. It should be in a<br># camera namespace on topic \"camera_info\" and accompanied by up to five<br># image topics named:<br>#<br>#   image_raw - raw data from the camera driver, possibly Bayer encoded<br>#   image            - monochrome, distorted<br>#   image_color      - color, distorted<br>#   image_rect       - monochrome, rectified<br>#   image_rect_color - color, rectified<br>#<br># The image_pipeline contains packages (image_proc, stereo_image_proc)<br># for producing the four processed image topics from image_raw and<br># camera_info. The meaning of the camera parameters are described in<br># detail at http://www.ros.org/wiki/image_pipeline/CameraInfo.<br>#<br># The image_geometry package provides a user-friendly interface to<br># common operations using this meta information. If you want to, e.g.,<br># project a 3d point into image coordinates, we strongly recommend<br># using image_geometry.<br>#<br># If the camera is uncalibrated, the matrices D, K, R, P should be left<br># zeroed out. In particular, clients may assume that K[0] == 0.0<br># indicates an uncalibrated camera.<br>#######################################################################<br>#                     Image acquisition info                          #<br>#######################################################################<br>#######################################################################<br>#                      Calibration Parameters                         #<br>#######################################################################<br># These are fixed during camera calibration. Their values will be the #<br># same in all messages until the camera is recalibrated. Note that    #<br># self-calibrating systems may \"recalibrate\" frequently.              #<br>#                                                                     #<br># The internal parameters can be used to warp a raw (distorted) image #<br># to:                                                                 #<br>#   1. An undistorted image (requires D and K)                        #<br>#   2. A rectified image (requires D, K, R)                           #<br># The projection matrix P projects 3D points into the rectified image.#<br>#######################################################################<br>#######################################################################<br>#                      Operational Parameters                         #<br>#######################################################################<br># These define the image region actually captured by the camera       #<br># driver. Although they affect the geometry of the output image, they #<br># may be changed freely without recalibrating the camera.             #<br>#######################################################################</p><h2>Fields</h2><ol><li>std_msgs/Header header<br># Time of image acquisition, camera coordinate frame ID<br># Header timestamp should be acquisition time of image<br># Header frame_id should be optical frame of camera<br># origin of frame should be optical center of camera<br># +x should point to the right in the image<br># +y should point down in the image<br># +z should point into the plane of the image</li><li>uint32 height<br># The image dimensions with which the camera was calibrated.<br># Normally this will be the full camera resolution in pixels.</li><li>uint32 width<br># The image dimensions with which the camera was calibrated.<br># Normally this will be the full camera resolution in pixels.</li><li>string distortion_model<br># The distortion model used. Supported models are listed in<br># sensor_msgs/distortion_models.hpp. For most cameras, \"plumb_bob\" - a<br># simple model of radial and tangential distortion - is sufficent.</li><li>float64[] d<br># The distortion parameters, size depending on the distortion model.<br># For \"plumb_bob\", the 5 parameters are: (k1, k2, t1, t2, k3).</li><li>float64[9.0] k<br># Intrinsic camera matrix for the raw (distorted) images.<br>#     [fx  0 cx]<br># K = [ 0 fy cy]<br>#     [ 0  0  1]<br># Projects 3D points in the camera coordinate frame to 2D pixel<br># coordinates using the focal lengths (fx, fy) and principal point<br># (cx, cy).<br># 3x3 row-major matrix</li><li>float64[9.0] r<br># Rectification matrix (stereo cameras only)<br># A rotation matrix aligning the camera coordinate system to the ideal<br># stereo image plane so that epipolar lines in both stereo images are<br># parallel.<br># 3x3 row-major matrix</li><li>float64[12.0] p<br># Projection/camera matrix<br>#     [fx'  0  cx' Tx]<br># P = [ 0  fy' cy' Ty]<br>#     [ 0   0   1   0]<br># By convention, this matrix specifies the intrinsic (camera) matrix<br>#  of the processed (rectified) image. That is, the left 3x3 portion<br>#  is the normal camera intrinsic matrix for the rectified image.<br># It projects 3D points in the camera coordinate frame to 2D pixel<br>#  coordinates using the focal lengths (fx', fy') and principal point<br>#  (cx', cy') - these may differ from the values in K.<br># For monocular cameras, Tx = Ty = 0. Normally, monocular cameras will<br>#  also have R = the identity and P[1:3,1:3] = K.<br># For a stereo pair, the fourth column [Tx Ty 0]' is related to the<br>#  position of the optical center of the second camera in the first<br>#  camera's frame. We assume Tz = 0 so both cameras are in the same<br>#  stereo image plane. The first camera always has Tx = Ty = 0. For<br>#  the right (second) camera of a horizontal stereo pair, Ty = 0 and<br>#  Tx = -fx' * B, where B is the baseline between the cameras.<br># Given a 3D point [X Y Z]', the projection (x, y) of the point onto<br>#  the rectified image is given by:<br>#  [u v w]' = P * [X Y Z 1]'<br>#         x = u / w<br>#         y = v / w<br>#  This holds for both images of a stereo pair.<br># 3x4 row-major matrix</li><li>uint32 binning_x<br># Binning refers here to any camera setting which combines rectangular<br>#  neighborhoods of pixels into larger \"super-pixels.\" It reduces the<br>#  resolution of the output image to<br>#  (width / binning_x) x (height / binning_y).<br># The default values binning_x = binning_y = 0 is considered the same<br>#  as binning_x = binning_y = 1 (no subsampling).</li><li>uint32 binning_y<br># Binning refers here to any camera setting which combines rectangular<br>#  neighborhoods of pixels into larger \"super-pixels.\" It reduces the<br>#  resolution of the output image to<br>#  (width / binning_x) x (height / binning_y).<br># The default values binning_x = binning_y = 0 is considered the same<br>#  as binning_x = binning_y = 1 (no subsampling).</li><li>RegionOfInterest roi<br># Region of interest (subwindow of full camera resolution), given in<br>#  full resolution (unbinned) image coordinates. A particular ROI<br>#  always denotes the same window of pixels on the camera sensor,<br>#  regardless of binning settings.<br># The default setting of roi (all values 0) is considered the same as<br>#  full resolution (roi.width = width, roi.height = height).</li></ol><h2>Enums</h2><ol></ol>"
      ],
      "text/plain": [
       "<capella_ros_tools.modules.messages.parser.MessageDef at 0x7f3c8f4675e0>"
=======
       "<h1>CameraInfo</h1><p># This message defines meta information for a camera. It should be in a<br># camera namespace on topic \"camera_info\" and accompanied by up to five<br># image topics named:<br>#<br>#   image_raw - raw data from the camera driver, possibly Bayer encoded<br>#   image            - monochrome, distorted<br>#   image_color      - color, distorted<br>#   image_rect       - monochrome, rectified<br>#   image_rect_color - color, rectified<br>#<br># The image_pipeline contains packages (image_proc, stereo_image_proc)<br># for producing the four processed image topics from image_raw and<br># camera_info. The meaning of the camera parameters are described in<br># detail at http://www.ros.org/wiki/image_pipeline/CameraInfo.<br>#<br># The image_geometry package provides a user-friendly interface to<br># common operations using this meta information. If you want to, e.g.,<br># project a 3d point into image coordinates, we strongly recommend<br># using image_geometry.<br>#<br># If the camera is uncalibrated, the matrices D, K, R, P should be left<br># zeroed out. In particular, clients may assume that K[0] == 0.0<br># indicates an uncalibrated camera.<br>#######################################################################<br>#                     Image acquisition info                          #<br>#######################################################################<br>#######################################################################<br>#                      Calibration Parameters                         #<br>#######################################################################<br># These are fixed during camera calibration. Their values will be the #<br># same in all messages until the camera is recalibrated. Note that    #<br># self-calibrating systems may \"recalibrate\" frequently.              #<br>#                                                                     #<br># The internal parameters can be used to warp a raw (distorted) image #<br># to:                                                                 #<br>#   1. An undistorted image (requires D and K)                        #<br>#   2. A rectified image (requires D, K, R)                           #<br># The projection matrix P projects 3D points into the rectified image.#<br>#######################################################################<br>#######################################################################<br>#                      Operational Parameters                         #<br>#######################################################################<br># These define the image region actually captured by the camera       #<br># driver. Although they affect the geometry of the output image, they #<br># may be changed freely without recalibrating the camera.             #<br>#######################################################################</p><h2>Fields</h2><ol><li>std_msgs/Header header<br># Time of image acquisition, camera coordinate frame ID<br># Header timestamp should be acquisition time of image<br># Header frame_id should be optical frame of camera<br># origin of frame should be optical center of camera<br># +x should point to the right in the image<br># +y should point down in the image<br># +z should point into the plane of the image</li><li>uint32 height<br># The image dimensions with which the camera was calibrated.<br># Normally this will be the full camera resolution in pixels.</li><li>uint32 width<br># The image dimensions with which the camera was calibrated.<br># Normally this will be the full camera resolution in pixels.</li><li>string distortion_model<br># The distortion model used. Supported models are listed in<br># sensor_msgs/distortion_models.hpp. For most cameras, \"plumb_bob\" - a<br># simple model of radial and tangential distortion - is sufficent.</li><li>float64[] d<br># The distortion parameters, size depending on the distortion model.<br># For \"plumb_bob\", the 5 parameters are: (k1, k2, t1, t2, k3).</li><li>float64[9] k<br># Intrinsic camera matrix for the raw (distorted) images.<br>#     [fx  0 cx]<br># K = [ 0 fy cy]<br>#     [ 0  0  1]<br># Projects 3D points in the camera coordinate frame to 2D pixel<br># coordinates using the focal lengths (fx, fy) and principal point<br># (cx, cy).<br># 3x3 row-major matrix</li><li>float64[9] r<br># Rectification matrix (stereo cameras only)<br># A rotation matrix aligning the camera coordinate system to the ideal<br># stereo image plane so that epipolar lines in both stereo images are<br># parallel.<br># 3x3 row-major matrix</li><li>float64[12] p<br># Projection/camera matrix<br>#     [fx'  0  cx' Tx]<br># P = [ 0  fy' cy' Ty]<br>#     [ 0   0   1   0]<br># By convention, this matrix specifies the intrinsic (camera) matrix<br>#  of the processed (rectified) image. That is, the left 3x3 portion<br>#  is the normal camera intrinsic matrix for the rectified image.<br># It projects 3D points in the camera coordinate frame to 2D pixel<br>#  coordinates using the focal lengths (fx', fy') and principal point<br>#  (cx', cy') - these may differ from the values in K.<br># For monocular cameras, Tx = Ty = 0. Normally, monocular cameras will<br>#  also have R = the identity and P[1:3,1:3] = K.<br># For a stereo pair, the fourth column [Tx Ty 0]' is related to the<br>#  position of the optical center of the second camera in the first<br>#  camera's frame. We assume Tz = 0 so both cameras are in the same<br>#  stereo image plane. The first camera always has Tx = Ty = 0. For<br>#  the right (second) camera of a horizontal stereo pair, Ty = 0 and<br>#  Tx = -fx' * B, where B is the baseline between the cameras.<br># Given a 3D point [X Y Z]', the projection (x, y) of the point onto<br>#  the rectified image is given by:<br>#  [u v w]' = P * [X Y Z 1]'<br>#         x = u / w<br>#         y = v / w<br>#  This holds for both images of a stereo pair.<br># 3x4 row-major matrix</li><li>uint32 binning_x<br># Binning refers here to any camera setting which combines rectangular<br>#  neighborhoods of pixels into larger \"super-pixels.\" It reduces the<br>#  resolution of the output image to<br>#  (width / binning_x) x (height / binning_y).<br># The default values binning_x = binning_y = 0 is considered the same<br>#  as binning_x = binning_y = 1 (no subsampling).</li><li>uint32 binning_y<br># Binning refers here to any camera setting which combines rectangular<br>#  neighborhoods of pixels into larger \"super-pixels.\" It reduces the<br>#  resolution of the output image to<br>#  (width / binning_x) x (height / binning_y).<br># The default values binning_x = binning_y = 0 is considered the same<br>#  as binning_x = binning_y = 1 (no subsampling).</li><li>RegionOfInterest roi<br># Region of interest (subwindow of full camera resolution), given in<br>#  full resolution (unbinned) image coordinates. A particular ROI<br>#  always denotes the same window of pixels on the camera sensor,<br>#  regardless of binning settings.<br># The default setting of roi (all values 0) is considered the same as<br>#  full resolution (roi.width = width, roi.height = height).</li></ol><h2>Enums</h2><ol></ol>"
      ],
      "text/plain": [
       "<capella_ros_tools.modules.messages.parser.MessageDef at 0x7f3594025570>"
>>>>>>> 40ef464 (feat: Make tree view draggable)
      ]
     },
     "metadata": {},
     "output_type": "display_data"
    }
   ],
   "source": [
<<<<<<< HEAD
    "msgs = MessageDef.from_msg_string(msg_name, msg_string)\n",
=======
    "msgs = MessageDef.from_msg_file(Path(\"data/example_msgs/CameraInfo.msg\"))\n",
>>>>>>> 40ef464 (feat: Make tree view draggable)
    "display(msgs)"
   ]
  },
  {
   "cell_type": "code",
<<<<<<< HEAD
   "execution_count": 4,
   "metadata": {},
   "outputs": [],
   "source": [
    "msg_name = \"DiagnosticStatus\"\n",
    "msg_string = \"\"\"\n",
    "# This message holds the status of an individual component of the robot.\n",
    "\n",
    "# Possible levels of operations.\n",
    "byte OK=0\n",
    "byte WARN=1\n",
    "byte ERROR=2\n",
    "byte STALE=3\n",
    "\n",
    "# Level of operation enumerated above.\n",
    "byte level\n",
    "# A description of the test/component reporting.\n",
    "string name\n",
    "# A description of the status.\n",
    "string message\n",
    "# A hardware unique string.\n",
    "string hardware_id\n",
    "# An array of values associated with the status.\n",
    "KeyValue[] values\n",
    "\"\"\""
   ]
  },
  {
   "cell_type": "code",
=======
>>>>>>> 40ef464 (feat: Make tree view draggable)
   "execution_count": 5,
   "metadata": {},
   "outputs": [
    {
     "data": {
      "text/html": [
<<<<<<< HEAD
       "<h1>DiagnosticStatus</h1><p># This message holds the status of an individual component of the robot.</p><h2>Fields</h2><ol><li>byte level<br># Level of operation enumerated above.</li><li>string name<br># A description of the test/component reporting.</li><li>string message<br># A description of the status.</li><li>string hardware_id<br># A hardware unique string.</li><li>KeyValue[] values<br># An array of values associated with the status.</li></ol><h2>Enums</h2><ol><li><b>DiagnosticStatus</b><br># Possible levels of operations.<ul><li>byte OK = 0<br></li><li>byte WARN = 1<br></li><li>byte ERROR = 2<br></li><li>byte STALE = 3<br></li></ul></li></ol>"
      ],
      "text/plain": [
       "<capella_ros_tools.modules.messages.parser.MessageDef at 0x7f3c8f466e60>"
=======
       "<h1>DiagnosticStatus</h1><p># This message holds the status of an individual component of the robot.</p><h2>Fields</h2><ol><li>DiagnosticStatusLevel level<br># Level of operation enumerated above.</li><li>string name<br># A description of the test/component reporting.</li><li>string message<br># A description of the status.</li><li>string hardware_id<br># A hardware unique string.</li><li>KeyValue[] values<br># An array of values associated with the status.</li></ol><h2>Enums</h2><ol><li><b>DiagnosticStatusLevel</b><br># Possible levels of operations.<ul><li>byte OK = 0<br></li><li>byte WARN = 1<br></li><li>byte ERROR = 2<br></li><li>byte STALE = 3<br></li></ul></li></ol>"
      ],
      "text/plain": [
       "<capella_ros_tools.modules.messages.parser.MessageDef at 0x7f358c664fd0>"
>>>>>>> 40ef464 (feat: Make tree view draggable)
      ]
     },
     "metadata": {},
     "output_type": "display_data"
    }
   ],
   "source": [
<<<<<<< HEAD
    "msgs = MessageDef.from_msg_string(msg_name, msg_string)\n",
=======
    "msgs = MessageDef.from_msg_file(Path(\"data/example_msgs/DiagnosticStatus.msg\"))\n",
>>>>>>> 40ef464 (feat: Make tree view draggable)
    "display(msgs)"
   ]
  },
  {
   "cell_type": "code",
   "execution_count": 6,
   "metadata": {},
<<<<<<< HEAD
   "outputs": [],
   "source": [
    "msg_name = \"PointCloud2\"\n",
    "msg_string = \"\"\"\n",
    "# This message holds a collection of N-dimensional points, which may\n",
    "# contain additional information such as normals, intensity, etc. The\n",
    "# point data is stored as a binary blob, its layout described by the\n",
    "# contents of the \"fields\" array.\n",
    "#\n",
    "# The point cloud data may be organized 2d (image-like) or 1d (unordered).\n",
    "# Point clouds organized as 2d images may be produced by camera depth sensors\n",
    "# such as stereo or time-of-flight.\n",
    "\n",
    "# Time of sensor data acquisition, and the coordinate frame ID (for 3d points).\n",
    "std_msgs/Header header\n",
    "\n",
    "# 2D structure of the point cloud. If the cloud is unordered, height is\n",
    "# 1 and width is the length of the point cloud.\n",
    "uint32 height\n",
    "uint32 width\n",
    "\n",
    "# Describes the channels and their layout in the binary data blob.\n",
    "PointField[] fields\n",
    "\n",
    "bool    is_bigendian # Is this data bigendian?\n",
    "uint32  point_step   # Length of a point in bytes\n",
    "uint32  row_step     # Length of a row in bytes\n",
    "uint8[] data         # Actual point data, size is (row_step*height)\n",
    "\n",
    "bool is_dense        # True if there are no invalid points\n",
    "\"\"\""
   ]
  },
  {
   "cell_type": "code",
   "execution_count": 7,
   "metadata": {},
=======
>>>>>>> 40ef464 (feat: Make tree view draggable)
   "outputs": [
    {
     "data": {
      "text/html": [
       "<h1>PointCloud2</h1><p># This message holds a collection of N-dimensional points, which may<br># contain additional information such as normals, intensity, etc. The<br># point data is stored as a binary blob, its layout described by the<br># contents of the \"fields\" array.<br>#<br># The point cloud data may be organized 2d (image-like) or 1d (unordered).<br># Point clouds organized as 2d images may be produced by camera depth sensors<br># such as stereo or time-of-flight.</p><h2>Fields</h2><ol><li>std_msgs/Header header<br># Time of sensor data acquisition, and the coordinate frame ID (for 3d points).</li><li>uint32 height<br># 2D structure of the point cloud. If the cloud is unordered, height is<br># 1 and width is the length of the point cloud.</li><li>uint32 width<br># 2D structure of the point cloud. If the cloud is unordered, height is<br># 1 and width is the length of the point cloud.</li><li>PointField[] fields<br># Describes the channels and their layout in the binary data blob.</li><li>bool is_bigendian<br># Is this data bigendian?</li><li>uint32 point_step<br># Length of a point in bytes</li><li>uint32 row_step<br># Length of a row in bytes</li><li>uint8[] data<br># Actual point data, size is (row_step*height)</li><li>bool is_dense<br># True if there are no invalid points</li></ol><h2>Enums</h2><ol></ol>"
      ],
      "text/plain": [
<<<<<<< HEAD
       "<capella_ros_tools.modules.messages.parser.MessageDef at 0x7f3c8f467010>"
=======
       "<capella_ros_tools.modules.messages.parser.MessageDef at 0x7f358c32beb0>"
>>>>>>> 40ef464 (feat: Make tree view draggable)
      ]
     },
     "metadata": {},
     "output_type": "display_data"
    }
   ],
   "source": [
<<<<<<< HEAD
    "msgs = MessageDef.from_msg_string(msg_name, msg_string)\n",
=======
    "msgs = MessageDef.from_msg_file(Path(\"data/example_msgs/PointCloud2.msg\"))\n",
>>>>>>> 40ef464 (feat: Make tree view draggable)
    "display(msgs)"
   ]
  }
 ],
 "metadata": {
  "kernelspec": {
   "display_name": ".venv",
   "language": "python",
   "name": "python3"
  },
  "language_info": {
   "codemirror_mode": {
    "name": "ipython",
    "version": 3
   },
   "file_extension": ".py",
   "mimetype": "text/x-python",
   "name": "python",
   "nbconvert_exporter": "python",
   "pygments_lexer": "ipython3",
   "version": "3.10.12"
  }
 },
 "nbformat": 4,
 "nbformat_minor": 2
}
