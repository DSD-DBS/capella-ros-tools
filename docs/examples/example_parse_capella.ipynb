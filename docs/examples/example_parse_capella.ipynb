{
 "cells": [
  {
   "cell_type": "code",
   "execution_count": 17,
   "metadata": {},
   "outputs": [
    {
     "name": "stdout",
     "output_type": "stream",
     "text": [
      "Cannot load PVMT extension: ValueError: Provided model does not have a PropertyValuePkg\n",
      "Property values are not available in this model\n",
      "Namespace 'org.polarsys.capella.core.data.information' already registered with URI 'http://www.polarsys.org/capella/core/information/6.0.0'\n",
      "Namespace 'org.polarsys.capella.core.data.information' already registered with URI 'http://www.polarsys.org/capella/core/information/6.0.0'\n",
      "Namespace 'org.polarsys.capella.core.data.information' already registered with URI 'http://www.polarsys.org/capella/core/information/6.0.0'\n",
      "Namespace 'org.polarsys.capella.core.data.information' already registered with URI 'http://www.polarsys.org/capella/core/information/6.0.0'\n",
      "Namespace 'org.polarsys.capella.core.data.information' already registered with URI 'http://www.polarsys.org/capella/core/information/6.0.0'\n",
      "Namespace 'org.polarsys.capella.core.data.information' already registered with URI 'http://www.polarsys.org/capella/core/information/6.0.0'\n",
      "Namespace 'org.polarsys.capella.core.data.information' already registered with URI 'http://www.polarsys.org/capella/core/information/6.0.0'\n",
      "Namespace 'org.polarsys.capella.core.data.information' already registered with URI 'http://www.polarsys.org/capella/core/information/6.0.0'\n",
      "Namespace 'org.polarsys.capella.core.data.information' already registered with URI 'http://www.polarsys.org/capella/core/information/6.0.0'\n",
      "Namespace 'org.polarsys.capella.core.data.information' already registered with URI 'http://www.polarsys.org/capella/core/information/6.0.0'\n",
      "Namespace 'org.polarsys.capella.core.data.information' already registered with URI 'http://www.polarsys.org/capella/core/information/6.0.0'\n",
      "Namespace 'org.polarsys.capella.core.data.information' already registered with URI 'http://www.polarsys.org/capella/core/information/6.0.0'\n",
      "Namespace 'org.polarsys.capella.core.data.information' already registered with URI 'http://www.polarsys.org/capella/core/information/6.0.0'\n",
      "Namespace 'org.polarsys.capella.core.data.information' already registered with URI 'http://www.polarsys.org/capella/core/information/6.0.0'\n",
      "Namespace 'org.polarsys.capella.core.data.information' already registered with URI 'http://www.polarsys.org/capella/core/information/6.0.0'\n",
      "Namespace 'org.polarsys.capella.core.data.information' already registered with URI 'http://www.polarsys.org/capella/core/information/6.0.0'\n",
      "Namespace 'org.polarsys.capella.core.data.information' already registered with URI 'http://www.polarsys.org/capella/core/information/6.0.0'\n",
      "Namespace 'org.polarsys.capella.core.data.information' already registered with URI 'http://www.polarsys.org/capella/core/information/6.0.0'\n",
      "Namespace 'org.polarsys.capella.core.data.information' already registered with URI 'http://www.polarsys.org/capella/core/information/6.0.0'\n",
      "Namespace 'org.polarsys.capella.core.data.information' already registered with URI 'http://www.polarsys.org/capella/core/information/6.0.0'\n",
      "Namespace 'org.polarsys.capella.core.data.information' already registered with URI 'http://www.polarsys.org/capella/core/information/6.0.0'\n",
      "Namespace 'org.polarsys.capella.core.data.information' already registered with URI 'http://www.polarsys.org/capella/core/information/6.0.0'\n",
      "Namespace 'org.polarsys.capella.core.data.information' already registered with URI 'http://www.polarsys.org/capella/core/information/6.0.0'\n",
      "Namespace 'org.polarsys.capella.core.data.information' already registered with URI 'http://www.polarsys.org/capella/core/information/6.0.0'\n",
      "Namespace 'org.polarsys.capella.core.data.information' already registered with URI 'http://www.polarsys.org/capella/core/information/6.0.0'\n",
      "Namespace 'org.polarsys.capella.core.data.information' already registered with URI 'http://www.polarsys.org/capella/core/information/6.0.0'\n",
      "Namespace 'org.polarsys.capella.core.data.information' already registered with URI 'http://www.polarsys.org/capella/core/information/6.0.0'\n",
      "Namespace 'org.polarsys.capella.core.data.information' already registered with URI 'http://www.polarsys.org/capella/core/information/6.0.0'\n",
      "Namespace 'org.polarsys.capella.core.data.information' already registered with URI 'http://www.polarsys.org/capella/core/information/6.0.0'\n",
      "Namespace 'org.polarsys.capella.core.data.information' already registered with URI 'http://www.polarsys.org/capella/core/information/6.0.0'\n",
      "Namespace 'org.polarsys.capella.core.data.information' already registered with URI 'http://www.polarsys.org/capella/core/information/6.0.0'\n",
      "Namespace 'org.polarsys.capella.core.data.information' already registered with URI 'http://www.polarsys.org/capella/core/information/6.0.0'\n",
      "Namespace 'org.polarsys.capella.core.data.information' already registered with URI 'http://www.polarsys.org/capella/core/information/6.0.0'\n",
      "Namespace 'org.polarsys.capella.core.data.information' already registered with URI 'http://www.polarsys.org/capella/core/information/6.0.0'\n",
      "Namespace 'org.polarsys.capella.core.data.information' already registered with URI 'http://www.polarsys.org/capella/core/information/6.0.0'\n",
      "Namespace 'org.polarsys.capella.core.data.information' already registered with URI 'http://www.polarsys.org/capella/core/information/6.0.0'\n",
      "Namespace 'org.polarsys.capella.core.data.information' already registered with URI 'http://www.polarsys.org/capella/core/information/6.0.0'\n",
      "Namespace 'org.polarsys.capella.core.data.information' already registered with URI 'http://www.polarsys.org/capella/core/information/6.0.0'\n",
      "Namespace 'org.polarsys.capella.core.data.information' already registered with URI 'http://www.polarsys.org/capella/core/information/6.0.0'\n",
      "Namespace 'org.polarsys.capella.core.data.information' already registered with URI 'http://www.polarsys.org/capella/core/information/6.0.0'\n",
      "Namespace 'org.polarsys.capella.core.data.information' already registered with URI 'http://www.polarsys.org/capella/core/information/6.0.0'\n",
      "Namespace 'org.polarsys.capella.core.data.information' already registered with URI 'http://www.polarsys.org/capella/core/information/6.0.0'\n",
      "Namespace 'org.polarsys.capella.core.data.information' already registered with URI 'http://www.polarsys.org/capella/core/information/6.0.0'\n",
      "Namespace 'org.polarsys.capella.core.data.information' already registered with URI 'http://www.polarsys.org/capella/core/information/6.0.0'\n",
      "Namespace 'org.polarsys.capella.core.data.information' already registered with URI 'http://www.polarsys.org/capella/core/information/6.0.0'\n",
      "Namespace 'org.polarsys.capella.core.data.information' already registered with URI 'http://www.polarsys.org/capella/core/information/6.0.0'\n",
      "Namespace 'org.polarsys.capella.core.data.information' already registered with URI 'http://www.polarsys.org/capella/core/information/6.0.0'\n",
      "Namespace 'org.polarsys.capella.core.data.information' already registered with URI 'http://www.polarsys.org/capella/core/information/6.0.0'\n",
      "Namespace 'org.polarsys.capella.core.data.information' already registered with URI 'http://www.polarsys.org/capella/core/information/6.0.0'\n",
      "Namespace 'org.polarsys.capella.core.data.information' already registered with URI 'http://www.polarsys.org/capella/core/information/6.0.0'\n",
      "Namespace 'org.polarsys.capella.core.data.information' already registered with URI 'http://www.polarsys.org/capella/core/information/6.0.0'\n",
      "Namespace 'org.polarsys.capella.core.data.information' already registered with URI 'http://www.polarsys.org/capella/core/information/6.0.0'\n",
      "Namespace 'org.polarsys.capella.core.data.information' already registered with URI 'http://www.polarsys.org/capella/core/information/6.0.0'\n",
      "Namespace 'org.polarsys.capella.core.data.information' already registered with URI 'http://www.polarsys.org/capella/core/information/6.0.0'\n",
      "Namespace 'org.polarsys.capella.core.data.information' already registered with URI 'http://www.polarsys.org/capella/core/information/6.0.0'\n",
      "Namespace 'org.polarsys.capella.core.data.information' already registered with URI 'http://www.polarsys.org/capella/core/information/6.0.0'\n",
      "Namespace 'org.polarsys.capella.core.data.information' already registered with URI 'http://www.polarsys.org/capella/core/information/6.0.0'\n",
      "Namespace 'org.polarsys.capella.core.data.information' already registered with URI 'http://www.polarsys.org/capella/core/information/6.0.0'\n",
      "Namespace 'org.polarsys.capella.core.data.information' already registered with URI 'http://www.polarsys.org/capella/core/information/6.0.0'\n",
      "Namespace 'org.polarsys.capella.core.data.information' already registered with URI 'http://www.polarsys.org/capella/core/information/6.0.0'\n",
      "Namespace 'org.polarsys.capella.core.data.information' already registered with URI 'http://www.polarsys.org/capella/core/information/6.0.0'\n",
      "Namespace 'org.polarsys.capella.core.data.information' already registered with URI 'http://www.polarsys.org/capella/core/information/6.0.0'\n",
      "Namespace 'org.polarsys.capella.core.data.information' already registered with URI 'http://www.polarsys.org/capella/core/information/6.0.0'\n",
      "Namespace 'org.polarsys.capella.core.data.information' already registered with URI 'http://www.polarsys.org/capella/core/information/6.0.0'\n",
      "Namespace 'org.polarsys.capella.core.data.information' already registered with URI 'http://www.polarsys.org/capella/core/information/6.0.0'\n",
      "Namespace 'org.polarsys.capella.core.data.information' already registered with URI 'http://www.polarsys.org/capella/core/information/6.0.0'\n",
      "Namespace 'org.polarsys.capella.core.data.information' already registered with URI 'http://www.polarsys.org/capella/core/information/6.0.0'\n",
      "Namespace 'org.polarsys.capella.core.data.information' already registered with URI 'http://www.polarsys.org/capella/core/information/6.0.0'\n",
      "Namespace 'org.polarsys.capella.core.data.information' already registered with URI 'http://www.polarsys.org/capella/core/information/6.0.0'\n",
      "Namespace 'org.polarsys.capella.core.data.information' already registered with URI 'http://www.polarsys.org/capella/core/information/6.0.0'\n",
      "Namespace 'org.polarsys.capella.core.data.information' already registered with URI 'http://www.polarsys.org/capella/core/information/6.0.0'\n",
      "Namespace 'org.polarsys.capella.core.data.information' already registered with URI 'http://www.polarsys.org/capella/core/information/6.0.0'\n",
      "Namespace 'org.polarsys.capella.core.data.information' already registered with URI 'http://www.polarsys.org/capella/core/information/6.0.0'\n",
      "Namespace 'org.polarsys.capella.core.data.information' already registered with URI 'http://www.polarsys.org/capella/core/information/6.0.0'\n",
      "Namespace 'org.polarsys.capella.core.data.information' already registered with URI 'http://www.polarsys.org/capella/core/information/6.0.0'\n",
      "Namespace 'org.polarsys.capella.core.data.information' already registered with URI 'http://www.polarsys.org/capella/core/information/6.0.0'\n",
      "Namespace 'org.polarsys.capella.core.data.information' already registered with URI 'http://www.polarsys.org/capella/core/information/6.0.0'\n",
      "Namespace 'org.polarsys.capella.core.data.information' already registered with URI 'http://www.polarsys.org/capella/core/information/6.0.0'\n",
      "Namespace 'org.polarsys.capella.core.data.information' already registered with URI 'http://www.polarsys.org/capella/core/information/6.0.0'\n",
      "Namespace 'org.polarsys.capella.core.data.information' already registered with URI 'http://www.polarsys.org/capella/core/information/6.0.0'\n",
      "Namespace 'org.polarsys.capella.core.data.information' already registered with URI 'http://www.polarsys.org/capella/core/information/6.0.0'\n",
      "Namespace 'org.polarsys.capella.core.data.information' already registered with URI 'http://www.polarsys.org/capella/core/information/6.0.0'\n",
      "Namespace 'org.polarsys.capella.core.data.information' already registered with URI 'http://www.polarsys.org/capella/core/information/6.0.0'\n",
      "Namespace 'org.polarsys.capella.core.data.information' already registered with URI 'http://www.polarsys.org/capella/core/information/6.0.0'\n",
      "Namespace 'org.polarsys.capella.core.data.information' already registered with URI 'http://www.polarsys.org/capella/core/information/6.0.0'\n",
      "Namespace 'org.polarsys.capella.core.data.information' already registered with URI 'http://www.polarsys.org/capella/core/information/6.0.0'\n",
      "Namespace 'org.polarsys.capella.core.data.information' already registered with URI 'http://www.polarsys.org/capella/core/information/6.0.0'\n",
      "Namespace 'org.polarsys.capella.core.data.information' already registered with URI 'http://www.polarsys.org/capella/core/information/6.0.0'\n",
      "Namespace 'org.polarsys.capella.core.data.information' already registered with URI 'http://www.polarsys.org/capella/core/information/6.0.0'\n",
      "Namespace 'org.polarsys.capella.core.data.information' already registered with URI 'http://www.polarsys.org/capella/core/information/6.0.0'\n",
      "Namespace 'org.polarsys.capella.core.data.information' already registered with URI 'http://www.polarsys.org/capella/core/information/6.0.0'\n",
      "Namespace 'org.polarsys.capella.core.data.information' already registered with URI 'http://www.polarsys.org/capella/core/information/6.0.0'\n",
      "Namespace 'org.polarsys.capella.core.data.information' already registered with URI 'http://www.polarsys.org/capella/core/information/6.0.0'\n",
      "Namespace 'org.polarsys.capella.core.data.information' already registered with URI 'http://www.polarsys.org/capella/core/information/6.0.0'\n",
      "Namespace 'org.polarsys.capella.core.data.information' already registered with URI 'http://www.polarsys.org/capella/core/information/6.0.0'\n",
      "Namespace 'org.polarsys.capella.core.data.information' already registered with URI 'http://www.polarsys.org/capella/core/information/6.0.0'\n",
      "Namespace 'org.polarsys.capella.core.data.information' already registered with URI 'http://www.polarsys.org/capella/core/information/6.0.0'\n",
      "Namespace 'org.polarsys.capella.core.data.information' already registered with URI 'http://www.polarsys.org/capella/core/information/6.0.0'\n",
      "Namespace 'org.polarsys.capella.core.data.information' already registered with URI 'http://www.polarsys.org/capella/core/information/6.0.0'\n",
      "Namespace 'org.polarsys.capella.core.data.information' already registered with URI 'http://www.polarsys.org/capella/core/information/6.0.0'\n",
      "Namespace 'org.polarsys.capella.core.data.information' already registered with URI 'http://www.polarsys.org/capella/core/information/6.0.0'\n",
      "Namespace 'org.polarsys.capella.core.data.information' already registered with URI 'http://www.polarsys.org/capella/core/information/6.0.0'\n",
      "Namespace 'org.polarsys.capella.core.data.information' already registered with URI 'http://www.polarsys.org/capella/core/information/6.0.0'\n",
      "Namespace 'org.polarsys.capella.core.data.information' already registered with URI 'http://www.polarsys.org/capella/core/information/6.0.0'\n",
      "Namespace 'org.polarsys.capella.core.data.information' already registered with URI 'http://www.polarsys.org/capella/core/information/6.0.0'\n",
      "Namespace 'org.polarsys.capella.core.data.information' already registered with URI 'http://www.polarsys.org/capella/core/information/6.0.0'\n",
      "Namespace 'org.polarsys.capella.core.data.information' already registered with URI 'http://www.polarsys.org/capella/core/information/6.0.0'\n",
      "Namespace 'org.polarsys.capella.core.data.information' already registered with URI 'http://www.polarsys.org/capella/core/information/6.0.0'\n",
      "Namespace 'org.polarsys.capella.core.data.information' already registered with URI 'http://www.polarsys.org/capella/core/information/6.0.0'\n",
      "Namespace 'org.polarsys.capella.core.data.information' already registered with URI 'http://www.polarsys.org/capella/core/information/6.0.0'\n",
      "Namespace 'org.polarsys.capella.core.data.information' already registered with URI 'http://www.polarsys.org/capella/core/information/6.0.0'\n",
      "Namespace 'org.polarsys.capella.core.data.information' already registered with URI 'http://www.polarsys.org/capella/core/information/6.0.0'\n",
      "Namespace 'org.polarsys.capella.core.data.information' already registered with URI 'http://www.polarsys.org/capella/core/information/6.0.0'\n",
      "Namespace 'org.polarsys.capella.core.data.information' already registered with URI 'http://www.polarsys.org/capella/core/information/6.0.0'\n",
      "Namespace 'org.polarsys.capella.core.data.information' already registered with URI 'http://www.polarsys.org/capella/core/information/6.0.0'\n",
      "Namespace 'org.polarsys.capella.core.data.information' already registered with URI 'http://www.polarsys.org/capella/core/information/6.0.0'\n",
      "Namespace 'org.polarsys.capella.core.data.information' already registered with URI 'http://www.polarsys.org/capella/core/information/6.0.0'\n",
      "Namespace 'org.polarsys.capella.core.data.information' already registered with URI 'http://www.polarsys.org/capella/core/information/6.0.0'\n",
      "Namespace 'org.polarsys.capella.core.data.information' already registered with URI 'http://www.polarsys.org/capella/core/information/6.0.0'\n",
      "Namespace 'org.polarsys.capella.core.data.information' already registered with URI 'http://www.polarsys.org/capella/core/information/6.0.0'\n",
      "Namespace 'org.polarsys.capella.core.data.information' already registered with URI 'http://www.polarsys.org/capella/core/information/6.0.0'\n",
      "Namespace 'org.polarsys.capella.core.data.information' already registered with URI 'http://www.polarsys.org/capella/core/information/6.0.0'\n",
      "Namespace 'org.polarsys.capella.core.data.information' already registered with URI 'http://www.polarsys.org/capella/core/information/6.0.0'\n",
      "Namespace 'org.polarsys.capella.core.data.information' already registered with URI 'http://www.polarsys.org/capella/core/information/6.0.0'\n",
      "Namespace 'org.polarsys.capella.core.data.information' already registered with URI 'http://www.polarsys.org/capella/core/information/6.0.0'\n",
      "Namespace 'org.polarsys.capella.core.data.information' already registered with URI 'http://www.polarsys.org/capella/core/information/6.0.0'\n",
      "Namespace 'org.polarsys.capella.core.data.information' already registered with URI 'http://www.polarsys.org/capella/core/information/6.0.0'\n",
      "Namespace 'org.polarsys.capella.core.data.information' already registered with URI 'http://www.polarsys.org/capella/core/information/6.0.0'\n",
      "Namespace 'org.polarsys.capella.core.data.information' already registered with URI 'http://www.polarsys.org/capella/core/information/6.0.0'\n",
      "Namespace 'org.polarsys.capella.core.data.information' already registered with URI 'http://www.polarsys.org/capella/core/information/6.0.0'\n",
      "Namespace 'org.polarsys.capella.core.data.information' already registered with URI 'http://www.polarsys.org/capella/core/information/6.0.0'\n",
      "Namespace 'org.polarsys.capella.core.data.information' already registered with URI 'http://www.polarsys.org/capella/core/information/6.0.0'\n",
      "Namespace 'org.polarsys.capella.core.data.information' already registered with URI 'http://www.polarsys.org/capella/core/information/6.0.0'\n",
      "Namespace 'org.polarsys.capella.core.data.information' already registered with URI 'http://www.polarsys.org/capella/core/information/6.0.0'\n",
      "Namespace 'org.polarsys.capella.core.data.information' already registered with URI 'http://www.polarsys.org/capella/core/information/6.0.0'\n",
      "Namespace 'org.polarsys.capella.core.data.information' already registered with URI 'http://www.polarsys.org/capella/core/information/6.0.0'\n",
      "Namespace 'org.polarsys.capella.core.data.information' already registered with URI 'http://www.polarsys.org/capella/core/information/6.0.0'\n",
      "Namespace 'org.polarsys.capella.core.data.information' already registered with URI 'http://www.polarsys.org/capella/core/information/6.0.0'\n",
      "Namespace 'org.polarsys.capella.core.data.information' already registered with URI 'http://www.polarsys.org/capella/core/information/6.0.0'\n",
      "Namespace 'org.polarsys.capella.core.data.information' already registered with URI 'http://www.polarsys.org/capella/core/information/6.0.0'\n",
      "Namespace 'org.polarsys.capella.core.data.information' already registered with URI 'http://www.polarsys.org/capella/core/information/6.0.0'\n",
      "Namespace 'org.polarsys.capella.core.data.information' already registered with URI 'http://www.polarsys.org/capella/core/information/6.0.0'\n",
      "Namespace 'org.polarsys.capella.core.data.information' already registered with URI 'http://www.polarsys.org/capella/core/information/6.0.0'\n",
      "Namespace 'org.polarsys.capella.core.data.information' already registered with URI 'http://www.polarsys.org/capella/core/information/6.0.0'\n",
      "Namespace 'org.polarsys.capella.core.data.information' already registered with URI 'http://www.polarsys.org/capella/core/information/6.0.0'\n",
      "Namespace 'org.polarsys.capella.core.data.information' already registered with URI 'http://www.polarsys.org/capella/core/information/6.0.0'\n",
      "Namespace 'org.polarsys.capella.core.data.information' already registered with URI 'http://www.polarsys.org/capella/core/information/6.0.0'\n",
      "Namespace 'org.polarsys.capella.core.data.information' already registered with URI 'http://www.polarsys.org/capella/core/information/6.0.0'\n",
      "Namespace 'org.polarsys.capella.core.data.information' already registered with URI 'http://www.polarsys.org/capella/core/information/6.0.0'\n",
      "Namespace 'org.polarsys.capella.core.data.information' already registered with URI 'http://www.polarsys.org/capella/core/information/6.0.0'\n",
      "Namespace 'org.polarsys.capella.core.data.information' already registered with URI 'http://www.polarsys.org/capella/core/information/6.0.0'\n",
      "Namespace 'org.polarsys.capella.core.data.information' already registered with URI 'http://www.polarsys.org/capella/core/information/6.0.0'\n",
      "Namespace 'org.polarsys.capella.core.data.information' already registered with URI 'http://www.polarsys.org/capella/core/information/6.0.0'\n",
      "Namespace 'org.polarsys.capella.core.data.information' already registered with URI 'http://www.polarsys.org/capella/core/information/6.0.0'\n",
      "Namespace 'org.polarsys.capella.core.data.information' already registered with URI 'http://www.polarsys.org/capella/core/information/6.0.0'\n",
      "Namespace 'org.polarsys.capella.core.data.information' already registered with URI 'http://www.polarsys.org/capella/core/information/6.0.0'\n",
      "Namespace 'org.polarsys.capella.core.data.information' already registered with URI 'http://www.polarsys.org/capella/core/information/6.0.0'\n",
      "Namespace 'org.polarsys.capella.core.data.information' already registered with URI 'http://www.polarsys.org/capella/core/information/6.0.0'\n",
      "Namespace 'org.polarsys.capella.core.data.information' already registered with URI 'http://www.polarsys.org/capella/core/information/6.0.0'\n",
      "Namespace 'org.polarsys.capella.core.data.information' already registered with URI 'http://www.polarsys.org/capella/core/information/6.0.0'\n",
      "Namespace 'org.polarsys.capella.core.data.information' already registered with URI 'http://www.polarsys.org/capella/core/information/6.0.0'\n",
      "Namespace 'org.polarsys.capella.core.data.information' already registered with URI 'http://www.polarsys.org/capella/core/information/6.0.0'\n",
      "Namespace 'org.polarsys.capella.core.data.information' already registered with URI 'http://www.polarsys.org/capella/core/information/6.0.0'\n",
      "Namespace 'org.polarsys.capella.core.data.information' already registered with URI 'http://www.polarsys.org/capella/core/information/6.0.0'\n",
      "Namespace 'org.polarsys.capella.core.data.information' already registered with URI 'http://www.polarsys.org/capella/core/information/6.0.0'\n",
      "Namespace 'org.polarsys.capella.core.data.information' already registered with URI 'http://www.polarsys.org/capella/core/information/6.0.0'\n",
      "Namespace 'org.polarsys.capella.core.data.information' already registered with URI 'http://www.polarsys.org/capella/core/information/6.0.0'\n",
      "Namespace 'org.polarsys.capella.core.data.information' already registered with URI 'http://www.polarsys.org/capella/core/information/6.0.0'\n",
      "Namespace 'org.polarsys.capella.core.data.information' already registered with URI 'http://www.polarsys.org/capella/core/information/6.0.0'\n",
      "Namespace 'org.polarsys.capella.core.data.information' already registered with URI 'http://www.polarsys.org/capella/core/information/6.0.0'\n",
      "Namespace 'org.polarsys.capella.core.data.information' already registered with URI 'http://www.polarsys.org/capella/core/information/6.0.0'\n",
      "Namespace 'org.polarsys.capella.core.data.information' already registered with URI 'http://www.polarsys.org/capella/core/information/6.0.0'\n",
      "Namespace 'org.polarsys.capella.core.data.information' already registered with URI 'http://www.polarsys.org/capella/core/information/6.0.0'\n",
      "Namespace 'org.polarsys.capella.core.data.information' already registered with URI 'http://www.polarsys.org/capella/core/information/6.0.0'\n",
      "Namespace 'org.polarsys.capella.core.data.information' already registered with URI 'http://www.polarsys.org/capella/core/information/6.0.0'\n",
      "Namespace 'org.polarsys.capella.core.data.information' already registered with URI 'http://www.polarsys.org/capella/core/information/6.0.0'\n",
      "Namespace 'org.polarsys.capella.core.data.information' already registered with URI 'http://www.polarsys.org/capella/core/information/6.0.0'\n",
      "Namespace 'org.polarsys.capella.core.data.information' already registered with URI 'http://www.polarsys.org/capella/core/information/6.0.0'\n",
      "Namespace 'org.polarsys.capella.core.data.information' already registered with URI 'http://www.polarsys.org/capella/core/information/6.0.0'\n",
      "Namespace 'org.polarsys.capella.core.data.information.datatype' already registered with URI 'http://www.polarsys.org/capella/core/information/datatype/6.0.0'\n",
      "Namespace 'org.polarsys.capella.core.data.information.datavalue' already registered with URI 'http://www.polarsys.org/capella/core/information/datavalue/6.0.0'\n",
      "Namespace 'org.polarsys.capella.core.data.information.datatype' already registered with URI 'http://www.polarsys.org/capella/core/information/datatype/6.0.0'\n",
      "Namespace 'org.polarsys.capella.core.data.information.datavalue' already registered with URI 'http://www.polarsys.org/capella/core/information/datavalue/6.0.0'\n",
      "Namespace 'org.polarsys.capella.core.data.information.datavalue' already registered with URI 'http://www.polarsys.org/capella/core/information/datavalue/6.0.0'\n",
      "Namespace 'org.polarsys.capella.core.data.information.datavalue' already registered with URI 'http://www.polarsys.org/capella/core/information/datavalue/6.0.0'\n",
      "Namespace 'org.polarsys.capella.core.data.information.datavalue' already registered with URI 'http://www.polarsys.org/capella/core/information/datavalue/6.0.0'\n",
      "Namespace 'org.polarsys.capella.core.data.information.datavalue' already registered with URI 'http://www.polarsys.org/capella/core/information/datavalue/6.0.0'\n",
      "Namespace 'org.polarsys.capella.core.data.information' already registered with URI 'http://www.polarsys.org/capella/core/information/6.0.0'\n",
      "Namespace 'org.polarsys.capella.core.data.information' already registered with URI 'http://www.polarsys.org/capella/core/information/6.0.0'\n",
      "Namespace 'org.polarsys.capella.core.data.information.datavalue' already registered with URI 'http://www.polarsys.org/capella/core/information/datavalue/6.0.0'\n",
      "Namespace 'org.polarsys.capella.core.data.information.datavalue' already registered with URI 'http://www.polarsys.org/capella/core/information/datavalue/6.0.0'\n",
      "Namespace 'org.polarsys.capella.core.data.information' already registered with URI 'http://www.polarsys.org/capella/core/information/6.0.0'\n",
      "Namespace 'org.polarsys.capella.core.data.information.datavalue' already registered with URI 'http://www.polarsys.org/capella/core/information/datavalue/6.0.0'\n",
      "Namespace 'org.polarsys.capella.core.data.information.datavalue' already registered with URI 'http://www.polarsys.org/capella/core/information/datavalue/6.0.0'\n",
      "Namespace 'org.polarsys.capella.core.data.information.datatype' already registered with URI 'http://www.polarsys.org/capella/core/information/datatype/6.0.0'\n",
      "Namespace 'org.polarsys.capella.core.data.information' already registered with URI 'http://www.polarsys.org/capella/core/information/6.0.0'\n",
      "Namespace 'org.polarsys.capella.core.data.information.datavalue' already registered with URI 'http://www.polarsys.org/capella/core/information/datavalue/6.0.0'\n",
      "Namespace 'org.polarsys.capella.core.data.information.datavalue' already registered with URI 'http://www.polarsys.org/capella/core/information/datavalue/6.0.0'\n",
      "Namespace 'org.polarsys.capella.core.data.information' already registered with URI 'http://www.polarsys.org/capella/core/information/6.0.0'\n",
      "Namespace 'org.polarsys.capella.core.data.information' already registered with URI 'http://www.polarsys.org/capella/core/information/6.0.0'\n",
      "Namespace 'org.polarsys.capella.core.data.information.datavalue' already registered with URI 'http://www.polarsys.org/capella/core/information/datavalue/6.0.0'\n",
      "Namespace 'org.polarsys.capella.core.data.information.datavalue' already registered with URI 'http://www.polarsys.org/capella/core/information/datavalue/6.0.0'\n",
      "Namespace 'org.polarsys.capella.core.data.information' already registered with URI 'http://www.polarsys.org/capella/core/information/6.0.0'\n",
      "Namespace 'org.polarsys.capella.core.data.information.datavalue' already registered with URI 'http://www.polarsys.org/capella/core/information/datavalue/6.0.0'\n",
      "Namespace 'org.polarsys.capella.core.data.information.datavalue' already registered with URI 'http://www.polarsys.org/capella/core/information/datavalue/6.0.0'\n",
      "Namespace 'org.polarsys.capella.core.data.information' already registered with URI 'http://www.polarsys.org/capella/core/information/6.0.0'\n",
      "Namespace 'org.polarsys.capella.core.data.information.datavalue' already registered with URI 'http://www.polarsys.org/capella/core/information/datavalue/6.0.0'\n",
      "Namespace 'org.polarsys.capella.core.data.information.datavalue' already registered with URI 'http://www.polarsys.org/capella/core/information/datavalue/6.0.0'\n",
      "Namespace 'org.polarsys.capella.core.data.information.datatype' already registered with URI 'http://www.polarsys.org/capella/core/information/datatype/6.0.0'\n",
      "Namespace 'org.polarsys.capella.core.data.information' already registered with URI 'http://www.polarsys.org/capella/core/information/6.0.0'\n",
      "Namespace 'org.polarsys.capella.core.data.information.datavalue' already registered with URI 'http://www.polarsys.org/capella/core/information/datavalue/6.0.0'\n",
      "Namespace 'org.polarsys.capella.core.data.information.datavalue' already registered with URI 'http://www.polarsys.org/capella/core/information/datavalue/6.0.0'\n",
      "Namespace 'org.polarsys.capella.core.data.information.datatype' already registered with URI 'http://www.polarsys.org/capella/core/information/datatype/6.0.0'\n",
      "Namespace 'org.polarsys.capella.core.data.information' already registered with URI 'http://www.polarsys.org/capella/core/information/6.0.0'\n",
      "Namespace 'org.polarsys.capella.core.data.information.datavalue' already registered with URI 'http://www.polarsys.org/capella/core/information/datavalue/6.0.0'\n",
      "Namespace 'org.polarsys.capella.core.data.information.datavalue' already registered with URI 'http://www.polarsys.org/capella/core/information/datavalue/6.0.0'\n",
      "Namespace 'org.polarsys.capella.core.data.information' already registered with URI 'http://www.polarsys.org/capella/core/information/6.0.0'\n",
      "Namespace 'org.polarsys.capella.core.data.information.datavalue' already registered with URI 'http://www.polarsys.org/capella/core/information/datavalue/6.0.0'\n",
      "Namespace 'org.polarsys.capella.core.data.information.datavalue' already registered with URI 'http://www.polarsys.org/capella/core/information/datavalue/6.0.0'\n"
     ]
    }
   ],
   "source": [
    "! python -m capella_ros_tools --overlap=overwrite data/model_msgs data/model la"
   ]
  },
  {
   "cell_type": "code",
   "execution_count": 18,
   "metadata": {},
   "outputs": [],
   "source": [
    "from capella_ros_tools.modules.parse_capella import ParseCapella"
   ]
  },
  {
   "cell_type": "code",
   "execution_count": 19,
   "metadata": {},
   "outputs": [
    {
     "name": "stderr",
     "output_type": "stream",
     "text": [
      "Cannot load PVMT extension: ValueError: Provided model does not have a PropertyValuePkg\n",
      "Property values are not available in this model\n"
     ]
    }
   ],
   "source": [
    "model = ParseCapella(\"data/model\", \"la\")"
   ]
  },
  {
   "cell_type": "code",
   "execution_count": 20,
   "metadata": {},
   "outputs": [
    {
     "data": {
      "text/plain": [
       "{'basic_types', 'model_msgs', 'ros_interfaces'}"
      ]
     },
     "execution_count": 20,
     "metadata": {},
     "output_type": "execute_result"
    }
   ],
   "source": [
    "model.get_packages(model.data)"
   ]
  },
  {
   "cell_type": "code",
   "execution_count": 21,
   "metadata": {},
   "outputs": [
    {
     "data": {
      "text/plain": [
       "{'sub_msgs', 'types'}"
      ]
     },
     "execution_count": 21,
     "metadata": {},
     "output_type": "execute_result"
    }
   ],
   "source": [
    "model_msgs = model.data.packages.by_name(\"model_msgs\")\n",
    "model.get_packages(model_msgs)"
   ]
  },
  {
   "cell_type": "code",
   "execution_count": 22,
   "metadata": {},
   "outputs": [
    {
     "data": {
      "text/plain": [
       "{'UInt64MultiArray': (Markup('Copyright DB Netz AG and contributors\\nSPDX-License-Identifier: Apache-2.0\\n\\nPlease look at the MultiArrayLayout message definition for\\ndocumentation on all multiarrays.'),\n",
       "  [MsgProp(name='layout', type='MultiArrayLayout', typedir='', min=1, max=1, comment=Markup('specification of data layout')),\n",
       "   MsgProp(name='data', type='uint64', typedir='', min=0, max=inf, comment=Markup('array of data'))]),\n",
       " 'MultiArrayLayout': (Markup('Copyright DB Netz AG and contributors\\nSPDX-License-Identifier: Apache-2.0\\n\\nThe multiarray declares a generic multi-dimensional array of a\\nparticular data type.  Dimensions are ordered from outer most\\nto inner most.'),\n",
       "  [MsgProp(name='dim', type='MultiArrayDimension', typedir='', min=0, max=inf, comment=Markup('Array of dimension properties')),\n",
       "   MsgProp(name='data_offset', type='uint8', typedir='', min=1, max=1, comment=Markup('cf. ObjectTypes, OBJECT_MOTION_TYPE_XXX'))])}"
      ]
     },
     "execution_count": 22,
     "metadata": {},
     "output_type": "execute_result"
    }
   ],
   "source": [
    "model.get_classes(model_msgs)"
   ]
  },
  {
   "cell_type": "code",
   "execution_count": 23,
   "metadata": {},
   "outputs": [
    {
     "data": {
      "text/plain": [
       "{'action_msgs',\n",
       " 'actionlib_msgs',\n",
       " 'builtin_interfaces',\n",
       " 'diagnostic_msgs',\n",
       " 'geometry_msgs',\n",
       " 'lifecycle_msgs',\n",
       " 'nav_msgs',\n",
       " 'rcl_interfaces',\n",
       " 'rosgraph_msgs',\n",
       " 'sensor_msgs',\n",
       " 'service_msgs',\n",
       " 'shape_msgs',\n",
       " 'statistics_msgs',\n",
       " 'std_msgs',\n",
       " 'stereo_msgs',\n",
       " 'test_msgs',\n",
       " 'trajectory_msgs',\n",
       " 'type_description_interfaces',\n",
       " 'visualization_msgs'}"
      ]
     },
     "execution_count": 23,
     "metadata": {},
     "output_type": "execute_result"
    }
   ],
   "source": [
    "ros_interfaces = model.data.packages.by_name(\"ros_interfaces\")\n",
    "model.get_packages(ros_interfaces)"
   ]
  },
  {
   "cell_type": "code",
   "execution_count": 24,
   "metadata": {},
   "outputs": [
    {
     "data": {
      "text/plain": [
       "{'OBJECT_MOTION_TYPE': (Markup('SPDX-FileCopyrightText: Copyright DB Netz AG\\nSPDX-License-Identifier: Apache-2.0\\n\\nObjectTypes\\n\\nCreated:  2020-04-15\\nModified: 2020-04-22\\nVersion:  2.0\\n\\nDescription: List of object motion types, classes, types, and subtypes.'),\n",
       "  [EnumProp(name='UNDEFINED', type='uint8', value=0, comment=Markup('undefined')),\n",
       "   EnumProp(name='STATIC', type='uint8', value=1, comment=''),\n",
       "   EnumProp(name='DYNAMIC', type='uint8', value=2, comment='')])}"
      ]
     },
     "execution_count": 24,
     "metadata": {},
     "output_type": "execute_result"
    }
   ],
   "source": [
    "model_types = model_msgs.packages.by_name(\"types\")\n",
    "model.get_types(model_types)"
   ]
  }
 ],
 "metadata": {
  "kernelspec": {
   "display_name": ".venv",
   "language": "python",
   "name": "python3"
  },
  "language_info": {
   "codemirror_mode": {
    "name": "ipython",
    "version": 3
   },
   "file_extension": ".py",
   "mimetype": "text/x-python",
   "name": "python",
   "nbconvert_exporter": "python",
   "pygments_lexer": "ipython3",
   "version": "3.10.12"
  }
 },
 "nbformat": 4,
 "nbformat_minor": 2
}
