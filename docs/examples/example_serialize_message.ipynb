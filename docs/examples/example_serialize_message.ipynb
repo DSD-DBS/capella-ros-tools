{
 "cells": [
  {
   "cell_type": "code",
   "execution_count": 1,
   "metadata": {},
   "outputs": [],
   "source": [
    "from capella_ros_tools.modules.serialize_message import SerializeMessagesPkg, SerializeMessageDef\n",
    "from capella_ros_tools.modules import MsgProp, EnumProp\n",
    "from pathlib import Path"
   ]
  },
  {
   "cell_type": "code",
   "execution_count": 3,
   "metadata": {},
   "outputs": [],
   "source": [
    "messages = {\n",
    "    \"class1\": SerializeMessageDef(\n",
    "        \"class1\", \"desc1\", [MsgProp(\"prop1\", \"class2\", \"\", \"1\", \"1\", \"prop_desc1\")]\n",
    "    ),\n",
    "    \"class2\": SerializeMessageDef(\n",
    "        \"class2\", \"desc2\", [MsgProp(\"prop2\", \"uint8\", \"\", \"1\", \"1\", \"prop_desc2\")]\n",
    "    ),\n",
    "}\n",
    "types = {\n",
    "    \"type1\": SerializeMessageDef(\"type1\", \"type_desc1\", [EnumProp(\"value1\", \"uint8\", \"12\", \"enum value desc\")]),\n",
    "}\n",
    "packages = {\n",
    "    \"types\": SerializeMessagesPkg(types, {}),\n",
    "}"
   ]
  },
  {
   "cell_type": "code",
   "execution_count": 4,
   "metadata": {},
   "outputs": [],
   "source": [
    "folder = SerializeMessagesPkg(messages, packages)"
   ]
  },
  {
   "cell_type": "code",
   "execution_count": 6,
   "metadata": {},
   "outputs": [],
   "source": [
    "folder.to_msg_folder(Path(\"data/test\"))"
   ]
  }
 ],
 "metadata": {
  "kernelspec": {
   "display_name": ".venv",
   "language": "python",
   "name": "python3"
  },
  "language_info": {
   "codemirror_mode": {
    "name": "ipython",
    "version": 3
   },
   "file_extension": ".py",
   "mimetype": "text/x-python",
   "name": "python",
   "nbconvert_exporter": "python",
   "pygments_lexer": "ipython3",
   "version": "3.10.12"
  }
 },
 "nbformat": 4,
 "nbformat_minor": 2
}
