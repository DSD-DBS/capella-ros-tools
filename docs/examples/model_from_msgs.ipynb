{
 "cells": [
  {
   "cell_type": "code",
   "execution_count": 1,
   "metadata": {},
   "outputs": [],
   "source": [
    "from rosidl2capella.idl_model import IDLModel"
   ]
  },
  {
   "cell_type": "code",
   "execution_count": 2,
   "metadata": {},
   "outputs": [],
   "source": [
    "idl_model = IDLModel.from_msg_model(\"data/msgs\")"
   ]
  },
  {
   "cell_type": "code",
   "execution_count": 3,
   "metadata": {},
   "outputs": [
    {
     "data": {
      "text/plain": [
       "{'root': <rosidl2capella.idl_model.IDLPackage at 0x7f5d29c1add0>,\n",
       " 'sensor_msgs': <rosidl2capella.idl_model.IDLPackage at 0x7f5d29bb7df0>,\n",
       " 'nav_msgs': <rosidl2capella.idl_model.IDLPackage at 0x7f5d2824ba00>,\n",
       " 'visualization_msgs': <rosidl2capella.idl_model.IDLPackage at 0x7f5d2824b370>,\n",
       " 'trajectory_msgs': <rosidl2capella.idl_model.IDLPackage at 0x7f5d2824bb80>,\n",
       " 'geometry_msgs': <rosidl2capella.idl_model.IDLPackage at 0x7f5d2824b6d0>,\n",
       " 'shape_msgs': <rosidl2capella.idl_model.IDLPackage at 0x7f5d2824b670>,\n",
       " 'diagnostic_msgs': <rosidl2capella.idl_model.IDLPackage at 0x7f5d2824bb20>,\n",
       " 'common_msgs': <rosidl2capella.idl_model.IDLPackage at 0x7f5d2824b6a0>,\n",
       " 'stereo_msgs': <rosidl2capella.idl_model.IDLPackage at 0x7f5d2824b220>,\n",
       " 'actionlib_msgs': <rosidl2capella.idl_model.IDLPackage at 0x7f5d2824b3a0>,\n",
       " 'std_msgs': <rosidl2capella.idl_model.IDLPackage at 0x7f5d29bb50c0>}"
      ]
     },
     "execution_count": 3,
     "metadata": {},
     "output_type": "execute_result"
    }
   ],
   "source": [
    "idl_model.packages"
   ]
  },
  {
   "cell_type": "code",
   "execution_count": 4,
   "metadata": {},
   "outputs": [],
   "source": [
    "package = idl_model.packages.get(\"root\")"
   ]
  },
  {
   "cell_type": "code",
   "execution_count": 5,
   "metadata": {},
   "outputs": [
    {
     "data": {
      "text/plain": [
       "dict_keys(['MultiArrayDimension', 'UInt64MultiArray', 'MultiArrayLayout'])"
      ]
     },
     "execution_count": 5,
     "metadata": {},
     "output_type": "execute_result"
    }
   ],
   "source": [
    "package.classes.keys()"
   ]
  },
  {
   "cell_type": "code",
   "execution_count": 6,
   "metadata": {},
   "outputs": [
    {
     "data": {
      "text/plain": [
       "{'string', 'uint32', 'uint64'}"
      ]
     },
     "execution_count": 6,
     "metadata": {},
     "output_type": "execute_result"
    }
   ],
   "source": [
    "package.basic_types"
   ]
  }
 ],
 "metadata": {
  "kernelspec": {
   "display_name": ".venv",
   "language": "python",
   "name": "python3"
  },
  "language_info": {
   "codemirror_mode": {
    "name": "ipython",
    "version": 3
   },
   "file_extension": ".py",
   "mimetype": "text/x-python",
   "name": "python",
   "nbconvert_exporter": "python",
   "pygments_lexer": "ipython3",
   "version": "3.10.12"
  }
 },
 "nbformat": 4,
 "nbformat_minor": 2
}
