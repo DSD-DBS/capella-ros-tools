{
 "cells": [
  {
   "cell_type": "code",
   "execution_count": 1,
   "metadata": {},
   "outputs": [],
   "source": [
    "from capella_ros_tools.modules.serialize_capella import SerializeCapella\n",
    "from capella_ros_tools.modules import MsgProp"
   ]
  },
  {
   "cell_type": "code",
   "execution_count": 2,
   "metadata": {},
   "outputs": [
    {
     "name": "stderr",
     "output_type": "stream",
     "text": [
      "Cannot load PVMT extension: ValueError: Provided model does not have a PropertyValuePkg\n",
      "Property values are not available in this model\n",
      "Namespace 'org.polarsys.capella.core.data.information' already registered with URI 'http://www.polarsys.org/capella/core/information/6.0.0'\n"
     ]
    }
   ],
   "source": [
    "model = SerializeCapella(\"data/empty_model\", \"la\")"
   ]
  },
  {
   "cell_type": "code",
   "execution_count": 3,
   "metadata": {},
   "outputs": [
    {
     "data": {
      "text/html": [
       "<ol start=\"0\" style=\"text-align: left;\"><li><strong>DataPkg</strong> &quot;basic_types&quot; (9b3009e8-fad5-4b3b-9f8e-25d2da9d8709)</li></ol>"
      ],
      "text/plain": [
       "[0] <DataPkg 'basic_types' (9b3009e8-fad5-4b3b-9f8e-25d2da9d8709)>"
      ]
     },
     "execution_count": 3,
     "metadata": {},
     "output_type": "execute_result"
    }
   ],
   "source": [
    "model.data.packages"
   ]
  },
  {
   "cell_type": "code",
   "execution_count": 4,
   "metadata": {},
   "outputs": [
    {
     "name": "stderr",
     "output_type": "stream",
     "text": [
      "Namespace 'org.polarsys.capella.core.data.information' already registered with URI 'http://www.polarsys.org/capella/core/information/6.0.0'\n",
      "Namespace 'org.polarsys.capella.core.data.information' already registered with URI 'http://www.polarsys.org/capella/core/information/6.0.0'\n"
     ]
    }
   ],
   "source": [
    "packages = {\"test\", \"test2\"}\n",
    "model.create_packages(packages, model.data)"
   ]
  },
  {
   "cell_type": "code",
   "execution_count": 5,
   "metadata": {},
   "outputs": [
    {
     "data": {
      "text/html": [
       "<ol start=\"0\" style=\"text-align: left;\"><li><strong>DataPkg</strong> &quot;basic_types&quot; (9b3009e8-fad5-4b3b-9f8e-25d2da9d8709)</li><li><strong>DataPkg</strong> &quot;test2&quot; (0bb61f0f-a3d2-42e4-85f2-6a3b8b7c74df)</li><li><strong>DataPkg</strong> &quot;test&quot; (9a44dc40-b7be-479d-a5e7-3d7cb1537d1c)</li></ol>"
      ],
      "text/plain": [
       "[0] <DataPkg 'basic_types' (9b3009e8-fad5-4b3b-9f8e-25d2da9d8709)>\n",
       "[1] <DataPkg 'test2' (0bb61f0f-a3d2-42e4-85f2-6a3b8b7c74df)>\n",
       "[2] <DataPkg 'test' (9a44dc40-b7be-479d-a5e7-3d7cb1537d1c)>"
      ]
     },
     "execution_count": 5,
     "metadata": {},
     "output_type": "execute_result"
    }
   ],
   "source": [
    "model.data.packages"
   ]
  },
  {
   "cell_type": "code",
   "execution_count": 6,
   "metadata": {},
   "outputs": [
    {
     "name": "stderr",
     "output_type": "stream",
     "text": [
      "Namespace 'org.polarsys.capella.core.data.information' already registered with URI 'http://www.polarsys.org/capella/core/information/6.0.0'\n",
      "Namespace 'org.polarsys.capella.core.data.information' already registered with URI 'http://www.polarsys.org/capella/core/information/6.0.0'\n"
     ]
    },
    {
     "data": {
      "text/plain": [
       "[]"
      ]
     },
     "execution_count": 6,
     "metadata": {},
     "output_type": "execute_result"
    }
   ],
   "source": [
    "classes = {\n",
    "    \"class1\": (\"desc1\", []),\n",
    "    \"class2\": (\"desc2\", []),\n",
    "}\n",
    "model.create_classes(classes, model.data)"
   ]
  },
  {
   "cell_type": "code",
   "execution_count": 7,
   "metadata": {},
   "outputs": [
    {
     "data": {
      "text/html": [
       "<ol start=\"0\" style=\"text-align: left;\"><li><strong>Class</strong> &quot;class1&quot; (2ab1170f-981a-4758-bc1f-a4e9a0b7733d)</li><li><strong>Class</strong> &quot;class2&quot; (c1629904-002a-47b7-8f33-935cbea6efb8)</li></ol>"
      ],
      "text/plain": [
       "[0] <Class 'class1' (2ab1170f-981a-4758-bc1f-a4e9a0b7733d)>\n",
       "[1] <Class 'class2' (c1629904-002a-47b7-8f33-935cbea6efb8)>"
      ]
     },
     "execution_count": 7,
     "metadata": {},
     "output_type": "execute_result"
    }
   ],
   "source": [
    "model.data.classes"
   ]
  },
  {
   "cell_type": "markdown",
   "metadata": {},
   "source": [
    "If we try creating the same classes again, instead of creating duplicates we get a list of the overlapping classes."
   ]
  },
  {
   "cell_type": "code",
   "execution_count": 8,
   "metadata": {},
   "outputs": [],
   "source": [
    "overlap = model.create_classes(classes, model.data)"
   ]
  },
  {
   "cell_type": "markdown",
   "metadata": {},
   "source": [
    "When we call delete_classes with the overlap, we can see that the classes are deleted."
   ]
  },
  {
   "cell_type": "code",
   "execution_count": 9,
   "metadata": {},
   "outputs": [
    {
     "data": {
      "text/html": [
       "<p><em>(Empty list)</em></p>"
      ],
      "text/plain": [
       "[]"
      ]
     },
     "execution_count": 9,
     "metadata": {},
     "output_type": "execute_result"
    }
   ],
   "source": [
    "model.delete_classes(overlap, model.data)\n",
    "model.data.classes"
   ]
  },
  {
   "cell_type": "markdown",
   "metadata": {},
   "source": [
    "But let's create them again, because we still need them."
   ]
  },
  {
   "cell_type": "code",
   "execution_count": 10,
   "metadata": {},
   "outputs": [
    {
     "name": "stderr",
     "output_type": "stream",
     "text": [
      "Namespace 'org.polarsys.capella.core.data.information' already registered with URI 'http://www.polarsys.org/capella/core/information/6.0.0'\n",
      "Namespace 'org.polarsys.capella.core.data.information' already registered with URI 'http://www.polarsys.org/capella/core/information/6.0.0'\n"
     ]
    },
    {
     "data": {
      "text/plain": [
       "[]"
      ]
     },
     "execution_count": 10,
     "metadata": {},
     "output_type": "execute_result"
    }
   ],
   "source": [
    "model.create_classes(classes, model.data)"
   ]
  },
  {
   "cell_type": "markdown",
   "metadata": {},
   "source": [
    "Right now our classes don't have any properties. So let's create them.\\\n",
    "For compositions use create_composition:"
   ]
  },
  {
   "cell_type": "code",
   "execution_count": 11,
   "metadata": {},
   "outputs": [
    {
     "name": "stderr",
     "output_type": "stream",
     "text": [
      "Namespace 'org.polarsys.capella.core.data.information' already registered with URI 'http://www.polarsys.org/capella/core/information/6.0.0'\n",
      "Namespace 'org.polarsys.capella.core.data.information' already registered with URI 'http://www.polarsys.org/capella/core/information/6.0.0'\n",
      "Namespace 'org.polarsys.capella.core.data.information.datavalue' already registered with URI 'http://www.polarsys.org/capella/core/information/datavalue/6.0.0'\n",
      "Namespace 'org.polarsys.capella.core.data.information.datavalue' already registered with URI 'http://www.polarsys.org/capella/core/information/datavalue/6.0.0'\n",
      "Namespace 'org.polarsys.capella.core.data.information' already registered with URI 'http://www.polarsys.org/capella/core/information/6.0.0'\n",
      "Namespace 'org.polarsys.capella.core.data.information.datavalue' already registered with URI 'http://www.polarsys.org/capella/core/information/datavalue/6.0.0'\n",
      "Namespace 'org.polarsys.capella.core.data.information.datavalue' already registered with URI 'http://www.polarsys.org/capella/core/information/datavalue/6.0.0'\n"
     ]
    },
    {
     "data": {
      "text/plain": [
       "True"
      ]
     },
     "execution_count": 11,
     "metadata": {},
     "output_type": "execute_result"
    }
   ],
   "source": [
    "model.create_composition(\"class1\", MsgProp(\"prop1\", \"class2\", \"\", \"1\", \"1\", \"prop_desc1\"), model.data)"
   ]
  },
  {
   "cell_type": "markdown",
   "metadata": {},
   "source": [
    "For attributes use create_attribute:"
   ]
  },
  {
   "cell_type": "code",
   "execution_count": 12,
   "metadata": {},
   "outputs": [
    {
     "name": "stderr",
     "output_type": "stream",
     "text": [
      "Namespace 'org.polarsys.capella.core.data.information.datatype' already registered with URI 'http://www.polarsys.org/capella/core/information/datatype/6.0.0'\n",
      "Namespace 'org.polarsys.capella.core.data.information' already registered with URI 'http://www.polarsys.org/capella/core/information/6.0.0'\n",
      "Namespace 'org.polarsys.capella.core.data.information.datavalue' already registered with URI 'http://www.polarsys.org/capella/core/information/datavalue/6.0.0'\n",
      "Namespace 'org.polarsys.capella.core.data.information.datavalue' already registered with URI 'http://www.polarsys.org/capella/core/information/datavalue/6.0.0'\n"
     ]
    }
   ],
   "source": [
    "model.create_attribute(\"class2\", MsgProp(\"prop2\", \"uint8\", \"\", \"1\", \"1\", \"prop_desc2\"), model.data)"
   ]
  },
  {
   "cell_type": "code",
   "execution_count": 13,
   "metadata": {},
   "outputs": [
    {
     "data": {
      "text/html": [
       "<h1>prop1 <span style=\"font-size: 70%;\">(org.polarsys.capella.core.data.information:Property)</span></h1><table><tr><th style=\"text-align: right;\">applied_property_value_groups</th><td style=\"text-align: left;\"><p><em>(Empty list)</em></p></td></tr><tr><th style=\"text-align: right;\">applied_property_values</th><td style=\"text-align: left;\"><p><em>(Empty list)</em></p></td></tr><tr><th style=\"text-align: right;\">association</th><td style=\"text-align: left;\"><em>Backreference to Association - omitted: can be slow to compute. Display this property directly to show.</em></td></tr><tr><th style=\"text-align: right;\">constraints</th><td style=\"text-align: left;\"><p><em>(Empty list)</em></p></td></tr><tr><th style=\"text-align: right;\">default_value</th><td style=\"text-align: left;\"><em>None</em></td></tr><tr><th style=\"text-align: right;\">description</th><td style=\"text-align: left;\">prop_desc1</td></tr><tr><th style=\"text-align: right;\">filtering_criteria</th><td style=\"text-align: left;\"><p><em>(Empty list)</em></p></td></tr><tr><th style=\"text-align: right;\">is_abstract</th><td style=\"text-align: left;\"><em>False</em></td></tr><tr><th style=\"text-align: right;\">is_derived</th><td style=\"text-align: left;\"><em>False</em></td></tr><tr><th style=\"text-align: right;\">is_ordered</th><td style=\"text-align: left;\"><em>False</em></td></tr><tr><th style=\"text-align: right;\">is_part_of_key</th><td style=\"text-align: left;\"><em>False</em></td></tr><tr><th style=\"text-align: right;\">is_read_only</th><td style=\"text-align: left;\"><em>False</em></td></tr><tr><th style=\"text-align: right;\">is_static</th><td style=\"text-align: left;\"><em>False</em></td></tr><tr><th style=\"text-align: right;\">is_unique</th><td style=\"text-align: left;\"><em>False</em></td></tr><tr><th style=\"text-align: right;\">kind</th><td style=\"text-align: left;\"><em>&lt;AggregationKind.COMPOSITION: 4&gt;</em></td></tr><tr><th style=\"text-align: right;\">max</th><td style=\"text-align: left;\"><em>None</em></td></tr><tr><th style=\"text-align: right;\">max_card</th><td style=\"text-align: left;\"><strong>LiteralNumericValue</strong> &quot;&quot;: 1 (a6d6b4a4-861f-4b77-9e03-46b99e45c9c3)</td></tr><tr><th style=\"text-align: right;\">min</th><td style=\"text-align: left;\"><em>None</em></td></tr><tr><th style=\"text-align: right;\">min_card</th><td style=\"text-align: left;\"><strong>LiteralNumericValue</strong> &quot;&quot;: 1 (265e184c-106b-4038-977b-95893741487d)</td></tr><tr><th style=\"text-align: right;\">name</th><td style=\"text-align: left;\">prop1</td></tr><tr><th style=\"text-align: right;\">null_value</th><td style=\"text-align: left;\"><em>None</em></td></tr><tr><th style=\"text-align: right;\">parent</th><td style=\"text-align: left;\"><strong>Class</strong> &quot;class1&quot; (7950d11b-6012-4bee-96bf-539f1adf1815)</td></tr><tr><th style=\"text-align: right;\">progress_status</th><td style=\"text-align: left;\">NOT_SET</td></tr><tr><th style=\"text-align: right;\">property_value_groups</th><td style=\"text-align: left;\"><p><em>(Empty list)</em></p></td></tr><tr><th style=\"text-align: right;\">property_values</th><td style=\"text-align: left;\"><p><em>(Empty list)</em></p></td></tr><tr><th style=\"text-align: right;\">requirements</th><td style=\"text-align: left;\"><p><em>(Empty list)</em></p></td></tr><tr><th style=\"text-align: right;\">summary</th><td style=\"text-align: left;\"><em>None</em></td></tr><tr><th style=\"text-align: right;\">traces</th><td style=\"text-align: left;\"><p><em>(Empty list)</em></p></td></tr><tr><th style=\"text-align: right;\">type</th><td style=\"text-align: left;\"><strong>Class</strong> &quot;class2&quot; (7b4a44d0-2257-49a4-9d3c-39828d3589bb)</td></tr><tr><th style=\"text-align: right;\">uuid</th><td style=\"text-align: left;\">7aacd84a-8f22-416b-ac88-d21ed8dc1abf</td></tr><tr><th style=\"text-align: right;\">visibility</th><td style=\"text-align: left;\"><em>&lt;VisibilityKind.UNSET: 1&gt;</em></td></tr><tr><th style=\"text-align: right;\">xtype</th><td style=\"text-align: left;\">org.polarsys.capella.core.data.information:Property</td></tr></table>"
      ],
      "text/plain": [
       "<Property 'prop1' (7aacd84a-8f22-416b-ac88-d21ed8dc1abf)>\n",
       ".applied_property_value_groups = []\n",
       ".applied_property_values = []\n",
       ".association = ... # backreference to Association - omitted: can be slow to compute\n",
       ".constraints = []\n",
       ".default_value = None\n",
       ".description = Markup('prop_desc1')\n",
       ".filtering_criteria = []\n",
       ".is_abstract = False\n",
       ".is_derived = False\n",
       ".is_ordered = False\n",
       ".is_part_of_key = False\n",
       ".is_read_only = False\n",
       ".is_static = False\n",
       ".is_unique = False\n",
       ".kind = <AggregationKind.COMPOSITION: 4>\n",
       ".max = None\n",
       ".max_card = <LiteralNumericValue (a6d6b4a4-861f-4b77-9e03-46b99e45c9c3)>\n",
       ".min = None\n",
       ".min_card = <LiteralNumericValue (265e184c-106b-4038-977b-95893741487d)>\n",
       ".name = 'prop1'\n",
       ".null_value = None\n",
       ".parent = <Class 'class1' (7950d11b-6012-4bee-96bf-539f1adf1815)>\n",
       ".progress_status = 'NOT_SET'\n",
       ".property_value_groups = []\n",
       ".property_values = []\n",
       ".requirements = []\n",
       ".summary = None\n",
       ".traces = []\n",
       ".type = <Class 'class2' (7b4a44d0-2257-49a4-9d3c-39828d3589bb)>\n",
       ".uuid = '7aacd84a-8f22-416b-ac88-d21ed8dc1abf'\n",
       ".visibility = <VisibilityKind.UNSET: 1>\n",
       ".xtype = 'org.polarsys.capella.core.data.information:Property'"
      ]
     },
     "execution_count": 13,
     "metadata": {},
     "output_type": "execute_result"
    }
   ],
   "source": [
    "model.data.classes[0].owned_properties[0]"
   ]
  }
 ],
 "metadata": {
  "kernelspec": {
   "display_name": ".venv",
   "language": "python",
   "name": "python3"
  },
  "language_info": {
   "codemirror_mode": {
    "name": "ipython",
    "version": 3
   },
   "file_extension": ".py",
   "mimetype": "text/x-python",
   "name": "python",
   "nbconvert_exporter": "python",
   "pygments_lexer": "ipython3",
   "version": "3.10.12"
  }
 },
 "nbformat": 4,
 "nbformat_minor": 2
}
