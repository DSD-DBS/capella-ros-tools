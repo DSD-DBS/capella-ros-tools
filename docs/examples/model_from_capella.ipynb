{
 "cells": [
  {
   "cell_type": "code",
   "execution_count": 1,
   "metadata": {},
   "outputs": [],
   "source": [
    "from rosidl2capella.capella_wrapper import CapellaWrapper"
   ]
  },
  {
   "cell_type": "code",
   "execution_count": 2,
   "metadata": {},
   "outputs": [
    {
     "name": "stderr",
     "output_type": "stream",
     "text": [
      "Cannot load PVMT extension: ValueError: Provided model does not have a PropertyValuePkg\n"
     ]
    },
    {
     "name": "stderr",
     "output_type": "stream",
     "text": [
      "Property values are not available in this model\n"
     ]
    }
   ],
   "source": [
    "idl_model = CapellaWrapper(\"data/model\", \"la\").as_idlmodel"
   ]
  },
  {
   "cell_type": "code",
   "execution_count": 4,
   "metadata": {},
   "outputs": [
    {
     "data": {
      "text/plain": [
       "{'diagnostic_msgs': <rosidl2capella.idl_model.IDLPackage at 0x7fd573553970>,\n",
       " 'std_msgs': <rosidl2capella.idl_model.IDLPackage at 0x7fd5735538b0>,\n",
       " 'shape_msgs': <rosidl2capella.idl_model.IDLPackage at 0x7fd573553910>,\n",
       " 'stereo_msgs': <rosidl2capella.idl_model.IDLPackage at 0x7fd5735536d0>,\n",
       " 'nav_msgs': <rosidl2capella.idl_model.IDLPackage at 0x7fd573553730>,\n",
       " 'geometry_msgs': <rosidl2capella.idl_model.IDLPackage at 0x7fd573553640>,\n",
       " 'actionlib_msgs': <rosidl2capella.idl_model.IDLPackage at 0x7fd573553760>,\n",
       " 'trajectory_msgs': <rosidl2capella.idl_model.IDLPackage at 0x7fd573553820>,\n",
       " 'sensor_msgs': <rosidl2capella.idl_model.IDLPackage at 0x7fd5735537c0>,\n",
       " 'root': <rosidl2capella.idl_model.IDLPackage at 0x7fd573553130>,\n",
       " 'visualization_msgs': <rosidl2capella.idl_model.IDLPackage at 0x7fd5735531f0>,\n",
       " 'common_msgs': <rosidl2capella.idl_model.IDLPackage at 0x7fd573553580>}"
      ]
     },
     "execution_count": 4,
     "metadata": {},
     "output_type": "execute_result"
    }
   ],
   "source": [
    "idl_model.packages"
   ]
  },
  {
   "cell_type": "code",
   "execution_count": 5,
   "metadata": {},
   "outputs": [],
   "source": [
    "package = idl_model.packages.get(\"root\")"
   ]
  },
  {
   "cell_type": "code",
   "execution_count": 6,
   "metadata": {},
   "outputs": [
    {
     "data": {
      "text/plain": [
       "dict_keys(['MultiArrayDimension', 'UInt64MultiArray', 'MultiArrayLayout'])"
      ]
     },
     "execution_count": 6,
     "metadata": {},
     "output_type": "execute_result"
    }
   ],
   "source": [
    "package.classes.keys()"
   ]
  },
  {
   "cell_type": "code",
   "execution_count": 7,
   "metadata": {},
   "outputs": [
    {
     "data": {
      "text/plain": [
       "{'string', 'uint32', 'uint64'}"
      ]
     },
     "execution_count": 7,
     "metadata": {},
     "output_type": "execute_result"
    }
   ],
   "source": [
    "package.basic_types"
   ]
  }
 ],
 "metadata": {
  "kernelspec": {
   "display_name": ".venv",
   "language": "python",
   "name": "python3"
  },
  "language_info": {
   "codemirror_mode": {
    "name": "ipython",
    "version": 3
   },
   "file_extension": ".py",
   "mimetype": "text/x-python",
   "name": "python",
   "nbconvert_exporter": "python",
   "pygments_lexer": "ipython3",
   "version": "3.10.12"
  }
 },
 "nbformat": 4,
 "nbformat_minor": 2
}
