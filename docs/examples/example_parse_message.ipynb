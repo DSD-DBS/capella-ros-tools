{
 "cells": [
  {
   "cell_type": "code",
   "execution_count": 3,
   "metadata": {},
   "outputs": [],
   "source": [
    "from capella_ros_tools.modules.parse_message import ParseMessagesPkg, ParseMessageDef\n",
    "from pathlib import Path"
   ]
  },
  {
   "cell_type": "code",
   "execution_count": 4,
   "metadata": {},
   "outputs": [
    {
     "data": {
      "text/plain": [
       "({},\n",
       " {'model_msgs': ({'UInt64MultiArray': ('Copyright DB Netz AG and contributors\\nSPDX-License-Identifier: Apache-2.0\\n\\nPlease look at the MultiArrayLayout message definition for\\ndocumentation on all multiarrays.',\n",
       "     [MsgProp(name='layout', type='MultiArrayLayout', typedir='', min='1', max='1', comment='specification of data layout'),\n",
       "      MsgProp(name='data', type='uint64', typedir='', min='0', max='', comment='array of data')]),\n",
       "    'MultiArrayLayout': ('Copyright DB Netz AG and contributors\\nSPDX-License-Identifier: Apache-2.0\\n\\nThe multiarray declares a generic multi-dimensional array of a\\nparticular data type.  Dimensions are ordered from outer most\\nto inner most.',\n",
       "     [MsgProp(name='dim', type='MultiArrayDimension', typedir='', min='0', max='', comment='Array of dimension properties'),\n",
       "      MsgProp(name='data_offset', type='OBJECT_MOTION_TYPE', typedir='', min='1', max='1', comment='cf. ObjectTypes, OBJECT_MOTION_TYPE_XXX')])},\n",
       "   {'sub_msgs': ({'MultiArrayDimension': ('Copyright DB Netz AG and contributors\\nSPDX-License-Identifier: Apache-2.0',\n",
       "       [MsgProp(name='label', type='string', typedir='', min='1', max='1', comment='label of given dimension'),\n",
       "        MsgProp(name='size', type='uint32', typedir='', min='1', max='1', comment='size of given dimension (in type units)'),\n",
       "        MsgProp(name='stride', type='uint32', typedir='', min='1', max='1', comment='stride of given dimension')])},\n",
       "     {}),\n",
       "    'types': ({'OBJECT_MOTION_TYPE': ('SPDX-FileCopyrightText: Copyright DB Netz AG\\nSPDX-License-Identifier: Apache-2.0\\n\\nObjectTypes\\n\\nCreated:  2020-04-15\\nModified: 2020-04-22\\nVersion:  2.0\\n\\nDescription: List of object motion types, classes, types, and subtypes.',\n",
       "       [EnumProp(name='UNDEFINED', type='uint8', value='0', comment='undefined'),\n",
       "        EnumProp(name='STATIC', type='uint8', value='1', comment=''),\n",
       "        EnumProp(name='DYNAMIC', type='uint8', value='2', comment='')])},\n",
       "     {})})})"
      ]
     },
     "execution_count": 4,
     "metadata": {},
     "output_type": "execute_result"
    }
   ],
   "source": [
    "folders = ParseMessagesPkg.from_pkg_folders(Path(\"data/model_msgs\"))\n",
    "folders.as_structs"
   ]
  },
  {
   "cell_type": "code",
   "execution_count": 5,
   "metadata": {},
   "outputs": [
    {
     "data": {
      "text/plain": [
       "({'UInt64MultiArray': ('Copyright DB Netz AG and contributors\\nSPDX-License-Identifier: Apache-2.0\\n\\nPlease look at the MultiArrayLayout message definition for\\ndocumentation on all multiarrays.',\n",
       "   [MsgProp(name='layout', type='MultiArrayLayout', typedir='', min='1', max='1', comment='specification of data layout'),\n",
       "    MsgProp(name='data', type='uint64', typedir='', min='0', max='', comment='array of data')]),\n",
       "  'MultiArrayLayout': ('Copyright DB Netz AG and contributors\\nSPDX-License-Identifier: Apache-2.0\\n\\nThe multiarray declares a generic multi-dimensional array of a\\nparticular data type.  Dimensions are ordered from outer most\\nto inner most.',\n",
       "   [MsgProp(name='dim', type='MultiArrayDimension', typedir='', min='0', max='', comment='Array of dimension properties'),\n",
       "    MsgProp(name='data_offset', type='OBJECT_MOTION_TYPE', typedir='', min='1', max='1', comment='cf. ObjectTypes, OBJECT_MOTION_TYPE_XXX')])},\n",
       " {'sub_msgs': ({'MultiArrayDimension': ('Copyright DB Netz AG and contributors\\nSPDX-License-Identifier: Apache-2.0',\n",
       "     [MsgProp(name='label', type='string', typedir='', min='1', max='1', comment='label of given dimension'),\n",
       "      MsgProp(name='size', type='uint32', typedir='', min='1', max='1', comment='size of given dimension (in type units)'),\n",
       "      MsgProp(name='stride', type='uint32', typedir='', min='1', max='1', comment='stride of given dimension')])},\n",
       "   {}),\n",
       "  'types': ({'OBJECT_MOTION_TYPE': ('SPDX-FileCopyrightText: Copyright DB Netz AG\\nSPDX-License-Identifier: Apache-2.0\\n\\nObjectTypes\\n\\nCreated:  2020-04-15\\nModified: 2020-04-22\\nVersion:  2.0\\n\\nDescription: List of object motion types, classes, types, and subtypes.',\n",
       "     [EnumProp(name='UNDEFINED', type='uint8', value='0', comment='undefined'),\n",
       "      EnumProp(name='STATIC', type='uint8', value='1', comment=''),\n",
       "      EnumProp(name='DYNAMIC', type='uint8', value='2', comment='')])},\n",
       "   {})})"
      ]
     },
     "execution_count": 5,
     "metadata": {},
     "output_type": "execute_result"
    }
   ],
   "source": [
    "folder = ParseMessagesPkg.from_msg_folder(Path(\"data/model_msgs/msg\"))\n",
    "folder.as_structs"
   ]
  },
  {
   "cell_type": "code",
   "execution_count": 6,
   "metadata": {},
   "outputs": [
    {
     "data": {
      "text/plain": [
       "('Copyright DB Netz AG and contributors\\nSPDX-License-Identifier: Apache-2.0\\n\\nThe multiarray declares a generic multi-dimensional array of a\\nparticular data type.  Dimensions are ordered from outer most\\nto inner most.',\n",
       " [MsgProp(name='dim', type='MultiArrayDimension', typedir='', min='0', max='', comment='Array of dimension properties'),\n",
       "  MsgProp(name='data_offset', type='OBJECT_MOTION_TYPE', typedir='', min='1', max='1', comment='cf. ObjectTypes, OBJECT_MOTION_TYPE_XXX')])"
      ]
     },
     "execution_count": 6,
     "metadata": {},
     "output_type": "execute_result"
    }
   ],
   "source": [
    "msg_file = ParseMessageDef.from_msg_file(Path(\"data/model_msgs/msg/MultiArrayLayout.msg\"))\n",
    "msg_file[0].as_struct"
   ]
  },
  {
   "cell_type": "code",
   "execution_count": 7,
   "metadata": {},
   "outputs": [
    {
     "data": {
      "text/plain": [
       "('SPDX-FileCopyrightText: Copyright DB Netz AG\\nSPDX-License-Identifier: Apache-2.0\\n\\nObjectTypes\\n\\nCreated:  2020-04-15\\nModified: 2020-04-22\\nVersion:  2.0\\n\\nDescription: List of object motion types, classes, types, and subtypes.',\n",
       " [EnumProp(name='UNDEFINED', type='uint8', value='0', comment='undefined'),\n",
       "  EnumProp(name='STATIC', type='uint8', value='1', comment=''),\n",
       "  EnumProp(name='DYNAMIC', type='uint8', value='2', comment='')])"
      ]
     },
     "execution_count": 7,
     "metadata": {},
     "output_type": "execute_result"
    }
   ],
   "source": [
    "type_file = ParseMessageDef.from_type_file(Path(\"data/model_msgs/msg/types/ObjectTypes.msg\"))\n",
    "type_file[0].as_struct"
   ]
  }
 ],
 "metadata": {
  "kernelspec": {
   "display_name": ".venv",
   "language": "python",
   "name": "python3"
  },
  "language_info": {
   "codemirror_mode": {
    "name": "ipython",
    "version": 3
   },
   "file_extension": ".py",
   "mimetype": "text/x-python",
   "name": "python",
   "nbconvert_exporter": "python",
   "pygments_lexer": "ipython3",
   "version": "3.10.12"
  }
 },
 "nbformat": 4,
 "nbformat_minor": 2
}
